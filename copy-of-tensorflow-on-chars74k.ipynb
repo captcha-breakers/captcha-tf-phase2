{
 "cells": [
  {
   "cell_type": "markdown",
   "metadata": {
    "colab_type": "text",
    "id": "view-in-github"
   },
   "source": [
    "<a href=\"https://colab.research.google.com/gist/akcgjc007/51b0693b8015ecdc139f1c2b3ceb82ea/copy-of-tensorflow-on-chars74k.ipynb\" target=\"_parent\"><img src=\"https://colab.research.google.com/assets/colab-badge.svg\" alt=\"Open In Colab\"/></a>"
   ]
  },
  {
   "cell_type": "code",
   "execution_count": 24,
   "metadata": {
    "id": "eBaKsoPeoykt"
   },
   "outputs": [],
   "source": [
    "# Developer docs\n",
    "# https://www.tensorflow.org/tutorials/keras/classification\n",
    "# https://www.tensorflow.org/api_docs/python/tf/keras/Model\n",
    "\n",
    "# Importing modules\n",
    "from os import listdir, system\n",
    "import pandas as pd\n",
    "import numpy as np\n",
    "import sys\n",
    "import time\n",
    "\n",
    "import cv2 as cv2\n",
    "import imutils\n",
    "import imageio\n",
    "import pickle\n",
    "from IPython.display import clear_output\n",
    "\n",
    "from matplotlib.pyplot import imshow\n",
    "import matplotlib.pyplot as plt\n",
    "import matplotlib.patches as patches\n",
    "\n",
    "import tensorflow as tf\n",
    "from skimage.io import imread\n",
    "#from skimage.filters import threshold_otsu\n",
    "from skimage import measure\n",
    "from skimage.measure import regionprops\n",
    "from skimage.transform import resize\n",
    "from scipy import ndimage\n",
    "\n",
    "\n",
    "# Downloading dataset from: http://www.ee.surrey.ac.uk/CVSSP/demos/chars74k/\n",
    "# You can comment this after running once.\n",
    "# !wget http://www.ee.surrey.ac.uk/CVSSP/demos/chars74k/EnglishImg.tgz\n",
    "# !tar -xvzf ./EnglishImg.tgz\n",
    "# !git clone https://github.com/captcha-breakers/ubiquitous-pancake.git"
   ]
  },
  {
   "cell_type": "code",
   "execution_count": 25,
   "metadata": {
    "colab": {
     "base_uri": "https://localhost:8080/"
    },
    "id": "9IIDQCtPpAxe",
    "outputId": "b4e51a26-7c79-43d9-f497-7c018c14171b"
   },
   "outputs": [
    {
     "name": "stdout",
     "output_type": "stream",
     "text": [
      "['Sample011', 'Sample012', 'Sample013', 'Sample014', 'Sample015', 'Sample016', 'Sample017', 'Sample018', 'Sample019', 'Sample020', 'Sample021', 'Sample022', 'Sample023', 'Sample024', 'Sample025', 'Sample026', 'Sample027', 'Sample028', 'Sample029', 'Sample030', 'Sample031', 'Sample032', 'Sample033', 'Sample034', 'Sample035', 'Sample036']\n"
     ]
    }
   ],
   "source": [
    "# Setting up folders\n",
    "base_dir = \"./English/Img/GoodImg/Bmp/\"\n",
    "folders = listdir(base_dir)\n",
    "folders.sort()\n",
    "folders = folders[10:36]\n",
    "print(folders)\n",
    "\n",
    "# Setting image_size\n",
    "image_size = (20, 20)"
   ]
  },
  {
   "cell_type": "code",
   "execution_count": 26,
   "metadata": {
    "colab": {
     "base_uri": "https://localhost:8080/"
    },
    "id": "dnjsqbFbpFOQ",
    "outputId": "2b963fb0-ddc0-40e4-d458-e612624080eb"
   },
   "outputs": [
    {
     "name": "stdout",
     "output_type": "stream",
     "text": [
      "Total images:  5202\n"
     ]
    }
   ],
   "source": [
    "# Collecting images from folders\n",
    "data = []\n",
    "total_images = 0\n",
    "for i in folders:\n",
    "    all_images = listdir(base_dir+i)\n",
    "    total_images+=len(all_images)\n",
    "    currentlabel = int(i[6:])-11\n",
    "\n",
    "    for name in all_images:\n",
    "        image = cv2.imread(base_dir+i+\"/\"+name)\n",
    "        image = cv2.cvtColor(image, cv2.COLOR_BGR2GRAY)\n",
    "        image = cv2.resize(image, image_size)\n",
    "\n",
    "        # Filtering\n",
    "        image = cv2.GaussianBlur(image,(5,5),0)\n",
    "        image = cv2.Laplacian(image,cv2.CV_64F)\n",
    "        image = cv2.GaussianBlur(image,(5,5),0)\n",
    "        kernel = np.ones((3, 3), np.uint8)\n",
    "        image = cv2.filter2D(image,-1,kernel)\n",
    "        # image = cv2.medianBlur(image,5)\n",
    "        # image = cv2.dilate(image,kernel,iterations = 1)\n",
    "        # image = cv2.erode(image,kernel,iterations = 1)\n",
    "        # image = cv2.morphologyEx(image, cv2.MORPH_OPEN, kernel)\n",
    "        # image = cv2.filter2D(image,-1,kernel)\n",
    "        # image = cv2.blur(image,(5,5))\n",
    "\n",
    "        data.append((image/255, currentlabel))\n",
    "print(\"Total images: \", total_images)"
   ]
  },
  {
   "cell_type": "code",
   "execution_count": 27,
   "metadata": {
    "colab": {
     "base_uri": "https://localhost:8080/",
     "height": 282
    },
    "id": "UpjV_ma4613F",
    "outputId": "911b37cb-eabc-4ec4-b895-2e4470aea1a7"
   },
   "outputs": [
    {
     "data": {
      "text/plain": [
       "<matplotlib.image.AxesImage at 0x7f374b741b80>"
      ]
     },
     "execution_count": 27,
     "metadata": {},
     "output_type": "execute_result"
    },
    {
     "data": {
      "image/png": "[encoded data removed]",
      "text/plain": [
       "<Figure size 432x288 with 1 Axes>"
      ]
     },
     "metadata": {
      "needs_background": "light"
     },
     "output_type": "display_data"
    }
   ],
   "source": [
    "# Visualizing images\n",
    "imshow(data[6][0])"
   ]
  },
  {
   "cell_type": "code",
   "execution_count": 28,
   "metadata": {
    "id": "kBEvr3VRpKLz"
   },
   "outputs": [],
   "source": [
    "# Shuffling data & making train/test\n",
    "np.random.shuffle(data)\n",
    "n = len(data)\n",
    "p = int(80*n/100)\n",
    "\n",
    "train_images = []\n",
    "train_labels = []\n",
    "test_images = []\n",
    "test_labels = []\n",
    "for i in range(n):\n",
    "    if i<p:\n",
    "        train_images.append(data[i][0])\n",
    "        train_labels.append(data[i][1])\n",
    "    else:\n",
    "        test_images.append(data[i][0])\n",
    "        test_labels.append(data[i][1])"
   ]
  },
  {
   "cell_type": "code",
   "execution_count": 37,
   "metadata": {
    "colab": {
     "base_uri": "https://localhost:8080/"
    },
    "id": "3Yws9xKLpNHf",
    "outputId": "b2846e52-671f-4af1-c81a-2403996f574d"
   },
   "outputs": [
    {
     "name": "stdout",
     "output_type": "stream",
     "text": [
      "Epoch 1/20\n",
      "417/417 [==============================] - 1s 1ms/step - loss: 2.3813 - accuracy: 0.3500\n",
      "Epoch 2/20\n",
      "417/417 [==============================] - 1s 1ms/step - loss: 0.8710 - accuracy: 0.7510\n",
      "Epoch 3/20\n",
      "417/417 [==============================] - 1s 1ms/step - loss: 0.5833 - accuracy: 0.8347\n",
      "Epoch 4/20\n",
      "417/417 [==============================] - 1s 1ms/step - loss: 0.4285 - accuracy: 0.8803\n",
      "Epoch 5/20\n",
      "417/417 [==============================] - 1s 1ms/step - loss: 0.2808 - accuracy: 0.9161\n",
      "Epoch 6/20\n",
      "417/417 [==============================] - 1s 1ms/step - loss: 0.2053 - accuracy: 0.9442\n",
      "Epoch 7/20\n",
      "417/417 [==============================] - 1s 1ms/step - loss: 0.2942 - accuracy: 0.9224\n",
      "Epoch 8/20\n",
      "417/417 [==============================] - 1s 1ms/step - loss: 0.1555 - accuracy: 0.9584\n",
      "Epoch 9/20\n",
      "417/417 [==============================] - 1s 1ms/step - loss: 0.1401 - accuracy: 0.9545\n",
      "Epoch 10/20\n",
      "417/417 [==============================] - 1s 1ms/step - loss: 0.1532 - accuracy: 0.9566\n",
      "Epoch 11/20\n",
      "417/417 [==============================] - 1s 1ms/step - loss: 0.0738 - accuracy: 0.9816\n",
      "Epoch 12/20\n",
      "417/417 [==============================] - 1s 1ms/step - loss: 0.1042 - accuracy: 0.9695\n",
      "Epoch 13/20\n",
      "417/417 [==============================] - 1s 1ms/step - loss: 0.1408 - accuracy: 0.9634\n",
      "Epoch 14/20\n",
      "417/417 [==============================] - 1s 1ms/step - loss: 0.0553 - accuracy: 0.9853\n",
      "Epoch 15/20\n",
      "417/417 [==============================] - 1s 1ms/step - loss: 0.0819 - accuracy: 0.9772\n",
      "Epoch 16/20\n",
      "417/417 [==============================] - 1s 1ms/step - loss: 0.2897 - accuracy: 0.9199\n",
      "Epoch 17/20\n",
      "417/417 [==============================] - 1s 1ms/step - loss: 0.1113 - accuracy: 0.9811\n",
      "Epoch 18/20\n",
      "417/417 [==============================] - 1s 1ms/step - loss: 0.0259 - accuracy: 0.9950\n",
      "Epoch 19/20\n",
      "417/417 [==============================] - 1s 1ms/step - loss: 0.0781 - accuracy: 0.9839\n",
      "Epoch 20/20\n",
      "417/417 [==============================] - 1s 1ms/step - loss: 0.1649 - accuracy: 0.9546\n"
     ]
    },
    {
     "data": {
      "text/plain": [
       "<tensorflow.python.keras.callbacks.History at 0x7f3748776880>"
      ]
     },
     "execution_count": 37,
     "metadata": {},
     "output_type": "execute_result"
    }
   ],
   "source": [
    "# Making the model and training it\n",
    "model = tf.keras.Sequential([\n",
    "    tf.keras.layers.Flatten(input_shape=image_size),\n",
    "    tf.keras.layers.Dense(200, activation='relu'),\n",
    "    tf.keras.layers.Dense(200, activation='relu'),\n",
    "    tf.keras.layers.Dense(200, activation='relu'),\n",
    "    tf.keras.layers.Dense(26)\n",
    "])\n",
    "model.compile(\n",
    "    optimizer='adam',\n",
    "    loss=tf.keras.losses.SparseCategoricalCrossentropy(from_logits=True),\n",
    "    metrics=['accuracy']\n",
    ")\n",
    "model.fit(np.array(train_images), np.array(train_labels), epochs=20, batch_size=10)"
   ]
  },
  {
   "cell_type": "code",
   "execution_count": 38,
   "metadata": {
    "colab": {
     "base_uri": "https://localhost:8080/"
    },
    "id": "db79yJnOzy7g",
    "outputId": "598492f9-a611-4338-d5e8-33599d0e108b"
   },
   "outputs": [
    {
     "name": "stdout",
     "output_type": "stream",
     "text": [
      "Test accuracy:  83.28530259365995\n"
     ]
    }
   ],
   "source": [
    "system(\"mkdir -p models\")\n",
    "# model.save('./models/my_model_84.h5')\n",
    "\n",
    "# Predicting on test images\n",
    "probability_model = tf.keras.Sequential([model, tf.keras.layers.Softmax()])\n",
    "predictions = probability_model.predict(np.array(test_images))\n",
    "\n",
    "p=0\n",
    "for i in range(len(test_images)):\n",
    "  if np.argmax(predictions[i]) == test_labels[i]:\n",
    "    p+=1\n",
    "\n",
    "print(\"Test accuracy: \", 100*p/len(test_images))"
   ]
  },
  {
   "cell_type": "code",
   "execution_count": 39,
   "metadata": {
    "colab": {
     "base_uri": "https://localhost:8080/"
    },
    "id": "DcEypgpaawjr",
    "outputId": "457c04b4-7a61-4861-cd01-1f62691c302f"
   },
   "outputs": [
    {
     "name": "stdout",
     "output_type": "stream",
     "text": [
      "Postive predictions:  481\n",
      "Negetive predictions:  85\n",
      "Accuracy:  84.98233215547704\n"
     ]
    }
   ],
   "source": [
    "fil_dir = \"./ubiquitous-pancake/captchas/\"\n",
    "ct = 0\n",
    "p = 0\n",
    "n = 0\n",
    "for fil in listdir(fil_dir)[:100]:\n",
    "  image = cv2.imread(fil_dir + fil)\n",
    "\n",
    "  gray = cv2.cvtColor(image, cv2.COLOR_BGR2GRAY) \n",
    "  _, thresh = cv2.threshold(gray, 120, 255, cv2.THRESH_BINARY)\n",
    "\n",
    "  cnts, new = cv2.findContours(thresh, cv2.RETR_LIST, cv2.CHAIN_APPROX_SIMPLE)\n",
    "  cnts=sorted(cnts, key = cv2.contourArea, reverse = True)[:30] \n",
    "  new_image = cv2.drawContours(image,cnts,-1,(0,255,0),1)\n",
    "\n",
    "  mea_image = []\n",
    "  mea_image.append(thresh[:, :])\n",
    "  captcha = np.invert(mea_image[0])\n",
    "  labelled_captcha = measure.label(captcha)\n",
    "\n",
    "  character_dimensions = (0.20*captcha.shape[0], 0.8*captcha.shape[0], 0.03*captcha.shape[1], 0.25*captcha.shape[1])\n",
    "  min_height, max_height, min_width, max_width = character_dimensions\n",
    "\n",
    "  characters = []\n",
    "  charactersx = []\n",
    "  counter=0\n",
    "  column_list = []\n",
    "  row_list = []\n",
    "  i = 0\n",
    "  for regions in regionprops(labelled_captcha):\n",
    "      y0, x0, y1, x1 = regions.bbox\n",
    "      region_height = y1 - y0\n",
    "      region_width = x1 - x0\n",
    "\n",
    "      if region_height > min_height and region_height < max_height and region_width > min_width and region_width < max_width:\n",
    "          roi = captcha[y0:y1, x0:x1]\n",
    "          resized_char = cv2.copyMakeBorder(roi, 5, 5, 5, 5, cv2.BORDER_CONSTANT)\n",
    "          resized_char = resize(roi, (20, 20))\n",
    "          column_list.append(x0)\n",
    "          characters.append(resized_char)\n",
    "  counter = 0\n",
    "\n",
    "  classification_result = []\n",
    "  for each_character in characters:\n",
    "      x_p,y_p = 2,2\n",
    "      each_character = cv2.copyMakeBorder(each_character, x_p, x_p, y_p, y_p, cv2.BORDER_CONSTANT)\n",
    "      each_character = cv2.GaussianBlur(each_character,(5,5),0)\n",
    "      each_character = cv2.Laplacian(each_character,cv2.CV_64F)\n",
    "      each_character = cv2.GaussianBlur(each_character,(5,5),0)\n",
    "      \n",
    "      each_character = cv2.resize(each_character,(20,20))\n",
    "\n",
    "      kernel = np.ones((3, 3), np.uint8)\n",
    "      each_character = cv2.filter2D(each_character,-1,kernel)\n",
    "      cv2.waitKey(1000)\n",
    "      each_character = each_character.reshape(1, -1);\n",
    "      result,  = probability_model.predict([each_character])\n",
    "      label = ord(fil[counter]) - 65\n",
    "      if(label == np.argmax(result)):\n",
    "        p += 1\n",
    "      else:\n",
    "        n+=1\n",
    "      classification_result.append(result)\n",
    "      counter += 1\n",
    "  \n",
    "  ct += 1\n",
    "  print(\"Current file: \", ct)\n",
    "  clear_output(wait=True)\n",
    "  \n",
    "print(\"Postive predictions: \", p)\n",
    "print(\"Negetive predictions: \", n)\n",
    "print(\"Accuracy: \", p*100/(p+n))"
   ]
  }
 ],
 "metadata": {
  "colab": {
   "collapsed_sections": [],
   "include_colab_link": true,
   "name": "Captcha-using-tensorflow-on-chars74K.ipynb",
   "provenance": []
  },
  "kernelspec": {
   "display_name": "Python 3",
   "language": "python",
   "name": "python3"
  },
  "language_info": {
   "codemirror_mode": {
    "name": "ipython",
    "version": 3
   },
   "file_extension": ".py",
   "mimetype": "text/x-python",
   "name": "python",
   "nbconvert_exporter": "python",
   "pygments_lexer": "ipython3",
   "version": "3.8.5"
  }
 },
 "nbformat": 4,
 "nbformat_minor": 1
}
