{
 "cells": [
  {
   "cell_type": "code",
   "execution_count": 10,
   "metadata": {
    "colab": {
     "base_uri": "https://localhost:8080/"
    },
    "id": "eBaKsoPeoykt",
    "outputId": "53756f9c-4857-4178-f03d-9132b2188852"
   },
   "outputs": [],
   "source": [
    "# Developer docs\n",
    "# https://www.tensorflow.org/tutorials/keras/classification\n",
    "# https://www.tensorflow.org/api_docs/python/tf/keras/Model\n",
    "\n",
    "# Importing modules\n",
    "from os import listdir, system\n",
    "import pandas as pd\n",
    "import numpy as np\n",
    "import sys\n",
    "import time\n",
    "import pandas as pd\n",
    "\n",
    "import cv2 as cv2\n",
    "import imutils\n",
    "import imageio\n",
    "import pickle\n",
    "from IPython.display import clear_output, display, HTML\n",
    "\n",
    "\n",
    "from matplotlib.pyplot import imshow\n",
    "import matplotlib.pyplot as plt\n",
    "import matplotlib.patches as patches\n",
    "\n",
    "import tensorflow as tf\n",
    "from skimage.io import imread\n",
    "from skimage import measure\n",
    "from skimage.measure import regionprops\n",
    "from skimage.transform import resize\n",
    "from scipy import ndimage\n",
    "\n",
    "\n",
    "# Downloading dataset from: http://www.ee.surrey.ac.uk/CVSSP/demos/chars74k/\n",
    "# You can comment this after running once.\n",
    "\n",
    "### CHARS74K DATASET FOR TRAINING\n",
    "# !wget http://www.ee.surrey.ac.uk/CVSSP/demos/chars74k/EnglishImg.tgz\n",
    "# !tar -xvzf ./EnglishImg.tgz && rm -rf EnglishImg.tgz\n",
    "# !git clone https://github.com/captcha-breakers/dataset-training-uppercase-1.git\n",
    "# !git clone https://github.com/captcha-breakers/D-training-color-noise.git\n",
    "# !git clone https://github.com/captcha-breakers/D-training-color-noise-trans.git\n",
    "\n",
    "# CAPTCHA DATA: DOWNLOAD ANYONE & APPROPRIATELY CONFIGURE THE PATH\n",
    "# !git clone https://github.com/captcha-breakers/dataset-simple-uppercase.git\n",
    "# !git clone https://github.com/rdmpage/solving-captchas-code-examples.git\n",
    "# !git clone https://github.com/captcha-breakers/dataset-pycaptcha-uppercase.git"
   ]
  },
  {
   "cell_type": "code",
   "execution_count": 11,
   "metadata": {
    "colab": {
     "base_uri": "https://localhost:8080/"
    },
    "id": "9IIDQCtPpAxe",
    "outputId": "f830d560-e79b-4f54-8aaa-cde235035612"
   },
   "outputs": [
    {
     "name": "stdout",
     "output_type": "stream",
     "text": [
      "['Sample011', 'Sample012', 'Sample013', 'Sample014', 'Sample015', 'Sample016', 'Sample017', 'Sample018', 'Sample019', 'Sample020', 'Sample021', 'Sample022', 'Sample023', 'Sample024', 'Sample025', 'Sample026', 'Sample027', 'Sample028', 'Sample029', 'Sample030', 'Sample031', 'Sample032', 'Sample033', 'Sample034', 'Sample035', 'Sample036']\n"
     ]
    }
   ],
   "source": [
    "# Setting up folders\n",
    "base_dir = \"./D-training-color-noise-trans/data/\"\n",
    "folders = listdir(base_dir)\n",
    "folders.sort()\n",
    "folders = folders[10:36]\n",
    "print(folders)\n",
    "\n",
    "# Setting image_size\n",
    "image_size = (20, 20)"
   ]
  },
  {
   "cell_type": "code",
   "execution_count": 12,
   "metadata": {
    "colab": {
     "base_uri": "https://localhost:8080/"
    },
    "id": "dnjsqbFbpFOQ",
    "outputId": "0c83597e-f537-4425-d276-43d14ad4e1a0"
   },
   "outputs": [
    {
     "name": "stdout",
     "output_type": "stream",
     "text": [
      "Sample011 : 0\n",
      "Sample012 : 1\n",
      "Sample013 : 2\n",
      "Sample014 : 3\n",
      "Sample015 : 4\n",
      "Sample016 : 5\n",
      "Sample017 : 6\n",
      "Sample018 : 7\n",
      "Sample019 : 8\n",
      "Sample020 : 9\n",
      "Sample021 : 10\n",
      "Sample022 : 11\n",
      "Sample023 : 12\n",
      "Sample024 : 13\n",
      "Sample025 : 14\n",
      "Sample026 : 15\n",
      "Sample027 : 16\n",
      "Sample028 : 17\n",
      "Sample029 : 18\n",
      "Sample030 : 19\n",
      "Sample031 : 20\n",
      "Sample032 : 21\n",
      "Sample033 : 22\n",
      "Sample034 : 23\n",
      "Sample035 : 24\n",
      "Sample036 : 25\n",
      "Total images:  26000\n"
     ]
    }
   ],
   "source": [
    "# Collecting images from folders\n",
    "data = []\n",
    "total_images = 0\n",
    "for i in folders:\n",
    "    all_images = listdir(base_dir+i)[:1000]\n",
    "    total_images+=len(all_images)\n",
    "    currentlabel = int(i[6:])-11\n",
    "\n",
    "    print(i, \":\", currentlabel)\n",
    "\n",
    "    for name in all_images:\n",
    "        image = cv2.imread(base_dir+i+\"/\"+name)\n",
    "        image = cv2.cvtColor(image, cv2.COLOR_BGR2GRAY)\n",
    "        image = cv2.resize(image, image_size)\n",
    "\n",
    "        # Filtering\n",
    "        # image = cv2.GaussianBlur(image,(5,5),0)\n",
    "        # image = cv2.Laplacian(image,cv2.CV_64F)\n",
    "        # image = cv2.GaussianBlur(image,(5,5),0)\n",
    "        # kernel = np.ones((3, 3), np.uint8)\n",
    "        # image = cv2.filter2D(image,-1,kernel)\n",
    "        \n",
    "        data.append((1-image/255, currentlabel))\n",
    "    \n",
    "    # if int(i[6:])<=10:\n",
    "    #   print(\"Images for\", currentlabel,\":\",  len(all_images))\n",
    "    # else:\n",
    "      # print(\"Images for\", chr(65-11+currentlabel+1),\":\",  len(all_images))\n",
    "print(\"Total images: \", total_images)"
   ]
  },
  {
   "cell_type": "code",
   "execution_count": 13,
   "metadata": {
    "id": "kBEvr3VRpKLz"
   },
   "outputs": [],
   "source": [
    "# Shuffling data & making train/test\n",
    "np.random.shuffle(data)\n",
    "n = len(data)\n",
    "p = int(80*n/100)\n",
    "\n",
    "train_images = []\n",
    "train_labels = []\n",
    "test_images = []\n",
    "test_labels = []\n",
    "for i in range(n):\n",
    "    if i<p:\n",
    "        train_images.append(data[i][0])\n",
    "        train_labels.append(data[i][1])\n",
    "    else:\n",
    "        test_images.append(data[i][0])\n",
    "        test_labels.append(data[i][1])"
   ]
  },
  {
   "cell_type": "code",
   "execution_count": 14,
   "metadata": {
    "colab": {
     "base_uri": "https://localhost:8080/",
     "height": 532
    },
    "id": "OuF0sxtOMEwn",
    "outputId": "fea678b0-700c-4589-a63b-6598c8a7249d"
   },
   "outputs": [
    {
     "name": "stdout",
     "output_type": "stream",
     "text": [
      "25\n",
      "1\n",
      "16\n",
      "5\n",
      "14\n",
      "15\n",
      "4\n",
      "3\n",
      "2\n",
      "13\n"
     ]
    },
    {
     "data": {
      "image/png": "[encoded data removed]",
      "text/plain": [
       "<Figure size 720x504 with 10 Axes>"
      ]
     },
     "metadata": {
      "needs_background": "light"
     },
     "output_type": "display_data"
    }
   ],
   "source": [
    "# Visualizing Training data\n",
    "fig = plt.figure(figsize=(10, 7))\n",
    "\n",
    "for i in range(10):\n",
    "  fig.add_subplot(2, 5, i+1)\n",
    "  print(data[i][1])\n",
    "  imshow(data[i][0])\n",
    "plt.show()"
   ]
  },
  {
   "cell_type": "code",
   "execution_count": 15,
   "metadata": {
    "colab": {
     "base_uri": "https://localhost:8080/"
    },
    "id": "3Yws9xKLpNHf",
    "outputId": "627eb33d-f562-4cd9-c3e7-16b4531f2c56"
   },
   "outputs": [
    {
     "name": "stdout",
     "output_type": "stream",
     "text": [
      "Epoch 1/10\n",
      "21/21 [==============================] - 0s 6ms/step - loss: 3.0323 - accuracy: 0.1756\n",
      "Epoch 2/10\n",
      "21/21 [==============================] - 0s 6ms/step - loss: 1.4286 - accuracy: 0.8012\n",
      "Epoch 3/10\n",
      "21/21 [==============================] - 0s 6ms/step - loss: 0.4088 - accuracy: 0.9313\n",
      "Epoch 4/10\n",
      "21/21 [==============================] - 0s 6ms/step - loss: 0.2067 - accuracy: 0.9583\n",
      "Epoch 5/10\n",
      "21/21 [==============================] - 0s 6ms/step - loss: 0.1354 - accuracy: 0.9747\n",
      "Epoch 6/10\n",
      "21/21 [==============================] - 0s 5ms/step - loss: 0.1113 - accuracy: 0.9791\n",
      "Epoch 7/10\n",
      "21/21 [==============================] - 0s 6ms/step - loss: 0.0890 - accuracy: 0.9826\n",
      "Epoch 8/10\n",
      "21/21 [==============================] - 0s 6ms/step - loss: 0.0838 - accuracy: 0.9842\n",
      "Epoch 9/10\n",
      "21/21 [==============================] - 0s 6ms/step - loss: 0.0673 - accuracy: 0.9878\n",
      "Epoch 10/10\n",
      "21/21 [==============================] - 0s 6ms/step - loss: 0.0570 - accuracy: 0.9899\n"
     ]
    },
    {
     "data": {
      "text/plain": [
       "<tensorflow.python.keras.callbacks.History at 0x7fb233d6de50>"
      ]
     },
     "execution_count": 15,
     "metadata": {},
     "output_type": "execute_result"
    }
   ],
   "source": [
    "# Making the model and training it\n",
    "model = tf.keras.Sequential([\n",
    "    tf.keras.layers.Flatten(input_shape=image_size),\n",
    "    tf.keras.layers.Dense(100, activation='relu'),\n",
    "    tf.keras.layers.Dense(100, activation='relu'),\n",
    "    tf.keras.layers.Dense(100, activation='relu'),\n",
    "    tf.keras.layers.Dense(26)\n",
    "])\n",
    "model.compile(\n",
    "    optimizer='adam',\n",
    "    loss=tf.keras.losses.SparseCategoricalCrossentropy(from_logits=True),\n",
    "    metrics=['accuracy']\n",
    ")\n",
    "model.fit(\n",
    "    np.array(train_images), \n",
    "    np.array(train_labels), \n",
    "    epochs=10,\n",
    "    batch_size=1000\n",
    ")"
   ]
  },
  {
   "cell_type": "code",
   "execution_count": 16,
   "metadata": {
    "colab": {
     "base_uri": "https://localhost:8080/"
    },
    "id": "db79yJnOzy7g",
    "outputId": "e2edf815-e7cd-441f-8cb9-965f6625bb80"
   },
   "outputs": [
    {
     "name": "stdout",
     "output_type": "stream",
     "text": [
      "Test accuracy:  98.78846153846153\n"
     ]
    }
   ],
   "source": [
    "# system(\"mkdir -p models\")\n",
    "# model.save('./models/my_model_84.h5')\n",
    "\n",
    "# Predicting on test images\n",
    "probability_model = tf.keras.Sequential([model, tf.keras.layers.Softmax()])\n",
    "predictions = probability_model.predict(np.array(test_images))\n",
    "\n",
    "p=0\n",
    "for i in range(len(test_images)):\n",
    "  if np.argmax(predictions[i]) == test_labels[i]:\n",
    "    p+=1\n",
    "\n",
    "print(\"Test accuracy: \", 100*p/len(test_images))"
   ]
  },
  {
   "cell_type": "code",
   "execution_count": 17,
   "metadata": {
    "colab": {
     "base_uri": "https://localhost:8080/",
     "height": 144
    },
    "id": "DcEypgpaawjr",
    "outputId": "cc599a3d-ffcd-43a8-e346-3266a13a4487"
   },
   "outputs": [
    {
     "data": {
      "text/html": [
       "<table border=\"1\" class=\"dataframe\">\n",
       "  <thead>\n",
       "    <tr style=\"text-align: right;\">\n",
       "      <th></th>\n",
       "      <th>Pos</th>\n",
       "      <th>Neg</th>\n",
       "      <th>Acc</th>\n",
       "    </tr>\n",
       "  </thead>\n",
       "  <tbody>\n",
       "    <tr>\n",
       "      <th>Char</th>\n",
       "      <td>48972</td>\n",
       "      <td>8368</td>\n",
       "      <td>85.406348</td>\n",
       "    </tr>\n",
       "    <tr>\n",
       "      <th>Captcha</th>\n",
       "      <td>6383</td>\n",
       "      <td>3617</td>\n",
       "      <td>63.830000</td>\n",
       "    </tr>\n",
       "  </tbody>\n",
       "</table>"
      ],
      "text/plain": [
       "<IPython.core.display.HTML object>"
      ]
     },
     "metadata": {},
     "output_type": "display_data"
    },
    {
     "name": "stdout",
     "output_type": "stream",
     "text": [
      "Current file:  10000\n",
      "ZJPVCH : ZJPVCH\n"
     ]
    }
   ],
   "source": [
    "fil_dir = \"./D-captchas-simple-salt-n-pepper/data/\"\n",
    "total = 0\n",
    "char_p = 0\n",
    "char_n = 0\n",
    "cap_p = 0\n",
    "cap_n = 0\n",
    "\n",
    "for fil in listdir(fil_dir)[:]:\n",
    "  image = cv2.imread(fil_dir + fil)\n",
    "  # imshow(image), plt.show()\n",
    "  gray = cv2.cvtColor(image, cv2.COLOR_BGR2GRAY) \n",
    "  _, thresh = cv2.threshold(gray, 120, 255, cv2.THRESH_BINARY)\n",
    "\n",
    "  cnts, new = cv2.findContours(thresh, cv2.RETR_LIST, cv2.CHAIN_APPROX_SIMPLE)\n",
    "  cnts=sorted(cnts, key = cv2.contourArea, reverse = True)[:30] \n",
    "  captcha = np.invert(thresh)\n",
    "  labelled_captcha = measure.label(captcha)\n",
    "\n",
    "  character_dimensions = (\n",
    "      0.25*captcha.shape[0], \n",
    "      0.95*captcha.shape[0], \n",
    "      0.05*captcha.shape[1], \n",
    "      0.3*captcha.shape[1]\n",
    "  )\n",
    "  min_height, max_height, min_width, max_width = character_dimensions\n",
    "\n",
    "  characters = []\n",
    "  charactersx = []\n",
    "  counter=0\n",
    "  column_list = []\n",
    "  row_list = []\n",
    "  d = []\n",
    "  for regions in regionprops(labelled_captcha):\n",
    "      y0, x0, y1, x1 = regions.bbox\n",
    "      region_height = y1 - y0\n",
    "      region_width = x1 - x0\n",
    "\n",
    "      if region_height > min_height and region_height < max_height and region_width > min_width and region_width < max_width:\n",
    "          roi = captcha[y0:y1, x0:x1]\n",
    "          resized_char = cv2.copyMakeBorder(roi, 10, 10, 10, 10, cv2.BORDER_CONSTANT)\n",
    "          resized_char = resize(roi, image_size)\n",
    "          column_list.append(x0)\n",
    "          d.append([x0, resized_char])\n",
    "  d = sorted(d)\n",
    "  predicted_captcha = \"\"  \n",
    "  ind=0\n",
    "  for _,each_character in d:\n",
    "      x_p,y_p = 3,3\n",
    "      each_character = cv2.copyMakeBorder(each_character, x_p, x_p, y_p, y_p, cv2.BORDER_CONSTANT)\n",
    "      each_character = cv2.resize(each_character,image_size)\n",
    "      \n",
    "      # imshow(each_character), plt.show()\n",
    "      each_character = each_character.reshape(1, -1)\n",
    "    \n",
    "      result, = probability_model.predict([each_character])\n",
    "      r = np.argmax(result)\n",
    "      \n",
    "      # if r<10:\n",
    "      #   # print(chr(48+r))\n",
    "      #   predicted_captcha+=chr(48+r)\n",
    "      #   if fil[ind] == chr(48+r):char_p += 1\n",
    "      #   else:char_n += 1\n",
    "      # else:\n",
    "      #   # print(chr(55+r))\n",
    "      #   predicted_captcha+=chr(65-10+r)\n",
    "      #   if fil[ind] == chr(65-10+r):char_p += 1\n",
    "      #   else:char_n += 1\n",
    "      if fil[ind] == chr(65+r):char_p += 1\n",
    "      else:char_n += 1\n",
    "      predicted_captcha+=chr(65+r)\n",
    "      ind += 1\n",
    "  \n",
    "  if predicted_captcha == fil[:6]: cap_p+=1\n",
    "  else:cap_n+=1\n",
    "\n",
    "  # Statistics\n",
    "  stats = pd.DataFrame(\n",
    "    [\n",
    "        [char_p, char_n, 100*char_p/(char_p+char_n)], \n",
    "        [cap_p, cap_n, 100*cap_p/(cap_p+cap_n)]\n",
    "    ], \n",
    "    index=[\"Char\", \"Captcha\"],\n",
    "    columns=[\"Pos\", \"Neg\", \"Acc\"]\n",
    "  )\n",
    "  total+=1\n",
    "  clear_output(wait=True)\n",
    "  display(HTML(stats.to_html()))\n",
    "  print(\"Current file: \", total)\n",
    "  print(fil[:6], \":\", predicted_captcha)"
   ]
  }
 ],
 "metadata": {
  "colab": {
   "collapsed_sections": [],
   "name": "Copy of Copy of Copy of Captcha-using-tensorflow-on-chars74K.ipynb",
   "provenance": []
  },
  "kernelspec": {
   "display_name": "Python 3",
   "language": "python",
   "name": "python3"
  },
  "language_info": {
   "codemirror_mode": {
    "name": "ipython",
    "version": 3
   },
   "file_extension": ".py",
   "mimetype": "text/x-python",
   "name": "python",
   "nbconvert_exporter": "python",
   "pygments_lexer": "ipython3",
   "version": "3.8.5"
  }
 },
 "nbformat": 4,
 "nbformat_minor": 1
}
