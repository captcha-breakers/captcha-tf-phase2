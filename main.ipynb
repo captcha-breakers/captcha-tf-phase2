{
 "cells": [
  {
   "cell_type": "code",
   "execution_count": 1,
   "metadata": {
    "id": "eBaKsoPeoykt"
   },
   "outputs": [],
   "source": [
    "# Developer docs\n",
    "# https://www.tensorflow.org/tutorials/keras/classification\n",
    "# https://www.tensorflow.org/api_docs/python/tf/keras/Model\n",
    "\n",
    "# Importing modules\n",
    "from os import listdir, system\n",
    "import pandas as pd\n",
    "import numpy as np\n",
    "import sys\n",
    "import time\n",
    "import pandas as pd\n",
    "\n",
    "import cv2 as cv2\n",
    "import imutils\n",
    "import imageio\n",
    "import pickle\n",
    "from IPython.display import clear_output, display, HTML\n",
    "\n",
    "\n",
    "from matplotlib.pyplot import imshow\n",
    "import matplotlib.pyplot as plt\n",
    "import matplotlib.patches as patches\n",
    "\n",
    "import tensorflow as tf\n",
    "from skimage.io import imread\n",
    "from skimage import measure\n",
    "from skimage.measure import regionprops\n",
    "from skimage.transform import resize\n",
    "from scipy import ndimage\n",
    "\n",
    "\n",
    "# Downloading dataset from: http://www.ee.surrey.ac.uk/CVSSP/demos/chars74k/\n",
    "# You can comment this after running once.\n",
    "\n",
    "# !wget http://www.ee.surrey.ac.uk/CVSSP/demos/chars74k/EnglishImg.tgz\n",
    "# !tar -xvzf ./EnglishImg.tgz && rm -rf EnglishImg.tgz\n",
    "# !git clone https://github.com/captcha-breakers/dataset-simple-uppercase.git"
   ]
  },
  {
   "cell_type": "code",
   "execution_count": 2,
   "metadata": {
    "colab": {
     "base_uri": "https://localhost:8080/"
    },
    "id": "9IIDQCtPpAxe",
    "outputId": "b4e51a26-7c79-43d9-f497-7c018c14171b"
   },
   "outputs": [
    {
     "name": "stdout",
     "output_type": "stream",
     "text": [
      "['Sample011', 'Sample012', 'Sample013', 'Sample014', 'Sample015', 'Sample016', 'Sample017', 'Sample018', 'Sample019', 'Sample020', 'Sample021', 'Sample022', 'Sample023', 'Sample024', 'Sample025', 'Sample026', 'Sample027', 'Sample028', 'Sample029', 'Sample030', 'Sample031', 'Sample032', 'Sample033', 'Sample034', 'Sample035', 'Sample036']\n"
     ]
    }
   ],
   "source": [
    "# Setting up folders\n",
    "base_dir = \"./English/Img/GoodImg/Bmp/\"\n",
    "folders = listdir(base_dir)\n",
    "folders.sort()\n",
    "folders = folders[10:36]\n",
    "print(folders)\n",
    "\n",
    "# Setting image_size\n",
    "image_size = (24, 24)"
   ]
  },
  {
   "cell_type": "code",
   "execution_count": 3,
   "metadata": {
    "colab": {
     "base_uri": "https://localhost:8080/"
    },
    "id": "dnjsqbFbpFOQ",
    "outputId": "2b963fb0-ddc0-40e4-d458-e612624080eb"
   },
   "outputs": [
    {
     "name": "stdout",
     "output_type": "stream",
     "text": [
      "Total images:  3085\n"
     ]
    }
   ],
   "source": [
    "# Collecting images from folders\n",
    "data = []\n",
    "total_images = 0\n",
    "for i in folders:\n",
    "    all_images = listdir(base_dir+i)[:150]\n",
    "    total_images+=len(all_images)\n",
    "    currentlabel = int(i[6:])-11\n",
    "\n",
    "    for name in all_images:\n",
    "        image = cv2.imread(base_dir+i+\"/\"+name)\n",
    "        image = cv2.cvtColor(image, cv2.COLOR_BGR2GRAY)\n",
    "        image = cv2.resize(image, image_size)\n",
    "\n",
    "        # Filtering\n",
    "        image = cv2.GaussianBlur(image,(5,5),0)\n",
    "        image = cv2.Laplacian(image,cv2.CV_64F)\n",
    "        image = cv2.GaussianBlur(image,(5,5),0)\n",
    "        kernel = np.ones((3, 3), np.uint8)\n",
    "        image = cv2.filter2D(image,-1,kernel)\n",
    "        \n",
    "        data.append((image/255, currentlabel))\n",
    "print(\"Total images: \", total_images)"
   ]
  },
  {
   "cell_type": "code",
   "execution_count": 4,
   "metadata": {
    "colab": {
     "base_uri": "https://localhost:8080/",
     "height": 282
    },
    "id": "UpjV_ma4613F",
    "outputId": "911b37cb-eabc-4ec4-b895-2e4470aea1a7"
   },
   "outputs": [
    {
     "data": {
      "text/plain": [
       "<matplotlib.image.AxesImage at 0x7fd4b0f434c0>"
      ]
     },
     "execution_count": 4,
     "metadata": {},
     "output_type": "execute_result"
    },
    {
     "data": {
      "image/png": "[encoded data removed]",
      "text/plain": [
       "<Figure size 432x288 with 1 Axes>"
      ]
     },
     "metadata": {
      "needs_background": "light"
     },
     "output_type": "display_data"
    }
   ],
   "source": [
    "# Visualizing images\n",
    "imshow(data[6][0])"
   ]
  },
  {
   "cell_type": "code",
   "execution_count": 5,
   "metadata": {
    "id": "kBEvr3VRpKLz"
   },
   "outputs": [],
   "source": [
    "# Shuffling data & making train/test\n",
    "np.random.shuffle(data)\n",
    "n = len(data)\n",
    "p = int(80*n/100)\n",
    "\n",
    "train_images = []\n",
    "train_labels = []\n",
    "test_images = []\n",
    "test_labels = []\n",
    "for i in range(n):\n",
    "    if i<p:\n",
    "        train_images.append(data[i][0])\n",
    "        train_labels.append(data[i][1])\n",
    "    else:\n",
    "        test_images.append(data[i][0])\n",
    "        test_labels.append(data[i][1])"
   ]
  },
  {
   "cell_type": "code",
   "execution_count": 12,
   "metadata": {
    "colab": {
     "base_uri": "https://localhost:8080/"
    },
    "id": "3Yws9xKLpNHf",
    "outputId": "b2846e52-671f-4af1-c81a-2403996f574d"
   },
   "outputs": [
    {
     "name": "stdout",
     "output_type": "stream",
     "text": [
      "Epoch 1/20\n",
      "25/25 [==============================] - 0s 2ms/step - loss: 3.1667 - accuracy: 0.1151\n",
      "Epoch 2/20\n",
      "25/25 [==============================] - 0s 2ms/step - loss: 2.4253 - accuracy: 0.4278\n",
      "Epoch 3/20\n",
      "25/25 [==============================] - 0s 2ms/step - loss: 1.5806 - accuracy: 0.6102\n",
      "Epoch 4/20\n",
      "25/25 [==============================] - 0s 2ms/step - loss: 1.0482 - accuracy: 0.7358\n",
      "Epoch 5/20\n",
      "25/25 [==============================] - 0s 2ms/step - loss: 0.7478 - accuracy: 0.8157\n",
      "Epoch 6/20\n",
      "25/25 [==============================] - 0s 2ms/step - loss: 0.5927 - accuracy: 0.8426\n",
      "Epoch 7/20\n",
      "25/25 [==============================] - 0s 2ms/step - loss: 0.4293 - accuracy: 0.9089\n",
      "Epoch 8/20\n",
      "25/25 [==============================] - 0s 2ms/step - loss: 0.3377 - accuracy: 0.9291\n",
      "Epoch 9/20\n",
      "25/25 [==============================] - 0s 2ms/step - loss: 0.2504 - accuracy: 0.9557\n",
      "Epoch 10/20\n",
      "25/25 [==============================] - 0s 2ms/step - loss: 0.1922 - accuracy: 0.9701\n",
      "Epoch 11/20\n",
      "25/25 [==============================] - 0s 2ms/step - loss: 0.1435 - accuracy: 0.9834\n",
      "Epoch 12/20\n",
      "25/25 [==============================] - 0s 2ms/step - loss: 0.1100 - accuracy: 0.9897\n",
      "Epoch 13/20\n",
      "25/25 [==============================] - 0s 2ms/step - loss: 0.0909 - accuracy: 0.9914\n",
      "Epoch 14/20\n",
      "25/25 [==============================] - 0s 2ms/step - loss: 0.0784 - accuracy: 0.9939\n",
      "Epoch 15/20\n",
      "25/25 [==============================] - 0s 2ms/step - loss: 0.0634 - accuracy: 0.9968\n",
      "Epoch 16/20\n",
      "25/25 [==============================] - 0s 2ms/step - loss: 0.0477 - accuracy: 0.9971\n",
      "Epoch 17/20\n",
      "25/25 [==============================] - 0s 2ms/step - loss: 0.0347 - accuracy: 0.9982\n",
      "Epoch 18/20\n",
      "25/25 [==============================] - 0s 2ms/step - loss: 0.0326 - accuracy: 0.9976\n",
      "Epoch 19/20\n",
      "25/25 [==============================] - 0s 2ms/step - loss: 0.0293 - accuracy: 0.9991\n",
      "Epoch 20/20\n",
      "25/25 [==============================] - 0s 2ms/step - loss: 0.0225 - accuracy: 0.9988\n"
     ]
    },
    {
     "data": {
      "text/plain": [
       "<tensorflow.python.keras.callbacks.History at 0x7fd4a04962b0>"
      ]
     },
     "execution_count": 12,
     "metadata": {},
     "output_type": "execute_result"
    }
   ],
   "source": [
    "# Making the model and training it\n",
    "model = tf.keras.Sequential([\n",
    "    tf.keras.layers.Flatten(input_shape=image_size),\n",
    "    tf.keras.layers.Dense(200, activation='relu'),\n",
    "    tf.keras.layers.Dense(200, activation='relu'),\n",
    "    tf.keras.layers.Dense(200, activation='relu'),\n",
    "    tf.keras.layers.Dense(26)\n",
    "])\n",
    "model.compile(\n",
    "    optimizer='adam',\n",
    "    loss=tf.keras.losses.SparseCategoricalCrossentropy(from_logits=True),\n",
    "    metrics=['accuracy']\n",
    ")\n",
    "model.fit(np.array(train_images), np.array(train_labels), epochs=20, batch_size=100)"
   ]
  },
  {
   "cell_type": "code",
   "execution_count": 14,
   "metadata": {
    "colab": {
     "base_uri": "https://localhost:8080/"
    },
    "id": "db79yJnOzy7g",
    "outputId": "598492f9-a611-4338-d5e8-33599d0e108b"
   },
   "outputs": [
    {
     "name": "stdout",
     "output_type": "stream",
     "text": [
      "Test accuracy:  76.6612641815235\n"
     ]
    }
   ],
   "source": [
    "system(\"mkdir -p models\")\n",
    "# model.save('./models/my_model_84.h5')\n",
    "\n",
    "# Predicting on test images\n",
    "probability_model = tf.keras.Sequential([model, tf.keras.layers.Softmax()])\n",
    "predictions = probability_model.predict(np.array(test_images))\n",
    "\n",
    "p=0\n",
    "for i in range(len(test_images)):\n",
    "  if np.argmax(predictions[i]) == test_labels[i]:\n",
    "    p+=1\n",
    "\n",
    "print(\"Test accuracy: \", 100*p/len(test_images))"
   ]
  },
  {
   "cell_type": "code",
   "execution_count": 15,
   "metadata": {
    "colab": {
     "base_uri": "https://localhost:8080/"
    },
    "id": "DcEypgpaawjr",
    "outputId": "457c04b4-7a61-4861-cd01-1f62691c302f"
   },
   "outputs": [
    {
     "data": {
      "text/html": [
       "<table border=\"1\" class=\"dataframe\">\n",
       "  <thead>\n",
       "    <tr style=\"text-align: right;\">\n",
       "      <th></th>\n",
       "      <th>Pos</th>\n",
       "      <th>Neg</th>\n",
       "      <th>Acc</th>\n",
       "    </tr>\n",
       "  </thead>\n",
       "  <tbody>\n",
       "    <tr>\n",
       "      <th>Char</th>\n",
       "      <td>43548</td>\n",
       "      <td>13407</td>\n",
       "      <td>76.460363</td>\n",
       "    </tr>\n",
       "    <tr>\n",
       "      <th>Captcha</th>\n",
       "      <td>3152</td>\n",
       "      <td>6848</td>\n",
       "      <td>31.520000</td>\n",
       "    </tr>\n",
       "  </tbody>\n",
       "</table>"
      ],
      "text/plain": [
       "<IPython.core.display.HTML object>"
      ]
     },
     "metadata": {},
     "output_type": "display_data"
    },
    {
     "name": "stdout",
     "output_type": "stream",
     "text": [
      "Current file:  10000\n",
      "FXYQIR : PXYQR\n"
     ]
    }
   ],
   "source": [
    "fil_dir = \"./dataset-simple-uppercase/data/\"\n",
    "total = 0\n",
    "char_p = 0\n",
    "char_n = 0\n",
    "cap_p = 0\n",
    "cap_n = 0\n",
    "\n",
    "for fil in listdir(fil_dir):\n",
    "  image = cv2.imread(fil_dir + fil)\n",
    "\n",
    "  gray = cv2.cvtColor(image, cv2.COLOR_BGR2GRAY) \n",
    "  _, thresh = cv2.threshold(gray, 120, 255, cv2.THRESH_BINARY)\n",
    "\n",
    "  cnts, new = cv2.findContours(thresh, cv2.RETR_LIST, cv2.CHAIN_APPROX_SIMPLE)\n",
    "  cnts=sorted(cnts, key = cv2.contourArea, reverse = True)[:30] \n",
    "  captcha = np.invert(thresh)\n",
    "  labelled_captcha = measure.label(captcha)\n",
    "\n",
    "  character_dimensions = (0.20*captcha.shape[0], 0.8*captcha.shape[0], 0.03*captcha.shape[1], 0.25*captcha.shape[1])\n",
    "  min_height, max_height, min_width, max_width = character_dimensions\n",
    "\n",
    "  characters = []\n",
    "  charactersx = []\n",
    "  counter=0\n",
    "  column_list = []\n",
    "  row_list = []\n",
    "  d = []\n",
    "  for regions in regionprops(labelled_captcha):\n",
    "      y0, x0, y1, x1 = regions.bbox\n",
    "      region_height = y1 - y0\n",
    "      region_width = x1 - x0\n",
    "\n",
    "      if region_height > min_height and region_height < max_height and region_width > min_width and region_width < max_width:\n",
    "          roi = captcha[y0:y1, x0:x1]\n",
    "          resized_char = cv2.copyMakeBorder(roi, 10, 10, 10, 10, cv2.BORDER_CONSTANT)\n",
    "          resized_char = resize(roi, image_size)\n",
    "          column_list.append(x0)\n",
    "          d.append([x0, resized_char])\n",
    "  \n",
    "  sorted(d)\n",
    "  predicted_captcha = \"\"  \n",
    "  ind=0\n",
    "  for _,each_character in d:\n",
    "      x_p,y_p = 3,3\n",
    "      each_character = cv2.copyMakeBorder(each_character, x_p, x_p, y_p, y_p, cv2.BORDER_CONSTANT)\n",
    "      each_character = cv2.resize(each_character,image_size)\n",
    "#       imshow(each_character), plt.show()\n",
    "      each_character = each_character.reshape(1, -1)\n",
    "    \n",
    "      result, = probability_model.predict([each_character])\n",
    "      if fil[ind] == chr(65+np.argmax(result)):char_p += 1\n",
    "      else:char_n += 1\n",
    "      \n",
    "      predicted_captcha+=chr(65+np.argmax(result))\n",
    "      ind += 1\n",
    "  total+=1\n",
    "  \n",
    " \n",
    "  \n",
    "  if fil[:6] == predicted_captcha: cap_p+=1\n",
    "  else: cap_n+=1\n",
    "  \n",
    "  \"\"\"Statistics\"\"\"\n",
    "\n",
    "  stats = pd.DataFrame(\n",
    "    [\n",
    "        [char_p, char_n, 100*char_p/(char_p+char_n)], \n",
    "        [cap_p, cap_n, 100*cap_p/(cap_p+cap_n)]\n",
    "    ], \n",
    "    index=[\"Char\", \"Captcha\"],\n",
    "    columns=[\"Pos\", \"Neg\", \"Acc\"]\n",
    "  )\n",
    "    \n",
    "  clear_output(wait=True)\n",
    "  display(HTML(stats.to_html()))\n",
    "  print(\"Current file: \", total)\n",
    "  print(fil[:6], \":\", predicted_captcha)"
   ]
  }
 ],
 "metadata": {
  "colab": {
   "collapsed_sections": [],
   "include_colab_link": true,
   "name": "Captcha-using-tensorflow-on-chars74K.ipynb",
   "provenance": []
  },
  "kernelspec": {
   "display_name": "Python 3",
   "language": "python",
   "name": "python3"
  },
  "language_info": {
   "codemirror_mode": {
    "name": "ipython",
    "version": 3
   },
   "file_extension": ".py",
   "mimetype": "text/x-python",
   "name": "python",
   "nbconvert_exporter": "python",
   "pygments_lexer": "ipython3",
   "version": "3.8.5"
  }
 },
 "nbformat": 4,
 "nbformat_minor": 1
}
