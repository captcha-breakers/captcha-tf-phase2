{
  "nbformat": 4,
  "nbformat_minor": 0,
  "metadata": {
    "colab": {
      "name": "Copy of Copy of Copy of Captcha-using-tensorflow-on-chars74K.ipynb",
      "provenance": [],
      "collapsed_sections": []
    },
    "kernelspec": {
      "display_name": "Python 3",
      "language": "python",
      "name": "python3"
    },
    "language_info": {
      "codemirror_mode": {
        "name": "ipython",
        "version": 3
      },
      "file_extension": ".py",
      "mimetype": "text/x-python",
      "name": "python",
      "nbconvert_exporter": "python",
      "pygments_lexer": "ipython3",
      "version": "3.8.5"
    }
  },
  "cells": [
    {
      "cell_type": "code",
      "metadata": {
        "id": "eBaKsoPeoykt"
      },
      "source": [
        "# Developer docs\n",
        "# https://www.tensorflow.org/tutorials/keras/classification\n",
        "# https://www.tensorflow.org/api_docs/python/tf/keras/Model\n",
        "\n",
        "# Importing modules\n",
        "from os import listdir, system\n",
        "import pandas as pd\n",
        "import numpy as np\n",
        "import sys\n",
        "import time\n",
        "import pandas as pd\n",
        "\n",
        "import cv2 as cv2\n",
        "import imutils\n",
        "import imageio\n",
        "import pickle\n",
        "from IPython.display import clear_output, display, HTML\n",
        "\n",
        "\n",
        "from matplotlib.pyplot import imshow\n",
        "import matplotlib.pyplot as plt\n",
        "import matplotlib.patches as patches\n",
        "\n",
        "import tensorflow as tf\n",
        "from skimage.io import imread\n",
        "from skimage import measure\n",
        "from skimage.measure import regionprops\n",
        "from skimage.transform import resize\n",
        "from scipy import ndimage\n",
        "\n",
        "\n",
        "# Downloading dataset from: http://www.ee.surrey.ac.uk/CVSSP/demos/chars74k/\n",
        "# You can comment this after running once.\n",
        "\n",
        "### CHARS74K DATASET FOR TRAINING\n",
        "# !wget http://www.ee.surrey.ac.uk/CVSSP/demos/chars74k/EnglishImg.tgz\n",
        "# !tar -xvzf ./EnglishImg.tgz && rm -rf EnglishImg.tgz\n",
        "# !git clone https://github.com/captcha-breakers/D-training-segmentation.git\n",
        "\n",
        "# CAPTCHA DATA: DOWNLOAD ANYONE & APPROPRIATELY CONFIGURE THE PATH\n",
        "# !git clone https://github.com/captcha-breakers/dataset-simple-uppercase.git\n",
        "# !git clone https://github.com/rdmpage/solving-captchas-code-examples.git\n",
        "# !git clone https://github.com/captcha-breakers/dataset-pycaptcha-uppercase.git\n",
        "# !git clone https://github.com/captcha-breakers/D-captchas-simple-salt-n-pepper.git"
      ],
      "execution_count": 2,
      "outputs": []
    },
    {
      "cell_type": "code",
      "metadata": {
        "colab": {
          "base_uri": "https://localhost:8080/"
        },
        "id": "9IIDQCtPpAxe",
        "outputId": "54849487-69a8-46dd-f3f7-9d7da20dd71c"
      },
      "source": [
        "# Setting up folders\n",
        "base_dir = \"./D-training-segmentation/data/\"\n",
        "folders = listdir(base_dir)\n",
        "folders.sort()\n",
        "folders = folders[:36]\n",
        "print(folders)\n",
        "\n",
        "# Setting image_size\n",
        "image_size = (20, 20)"
      ],
      "execution_count": 3,
      "outputs": [
        {
          "output_type": "stream",
          "text": [
            "['Sample001', 'Sample002', 'Sample003', 'Sample004', 'Sample005', 'Sample006', 'Sample007', 'Sample008', 'Sample009', 'Sample010', 'Sample011', 'Sample012', 'Sample013', 'Sample014', 'Sample015', 'Sample016', 'Sample017', 'Sample018', 'Sample019', 'Sample020', 'Sample021', 'Sample022', 'Sample023', 'Sample024', 'Sample025', 'Sample026', 'Sample027', 'Sample028', 'Sample029', 'Sample030', 'Sample031', 'Sample032', 'Sample033', 'Sample034', 'Sample035', 'Sample036']\n"
          ],
          "name": "stdout"
        }
      ]
    },
    {
      "cell_type": "code",
      "metadata": {
        "colab": {
          "base_uri": "https://localhost:8080/"
        },
        "id": "dnjsqbFbpFOQ",
        "outputId": "26cf2ae1-353d-4c5a-cebc-359364b184a1"
      },
      "source": [
        "# Collecting images from folders\n",
        "data = []\n",
        "total_images = 0\n",
        "for i in folders:\n",
        "    all_images = listdir(base_dir+i)[:100]\n",
        "    total_images+=len(all_images)\n",
        "    currentlabel = int(i[6:])-1\n",
        "\n",
        "    for name in all_images:\n",
        "        image = cv2.imread(base_dir+i+\"/\"+name)\n",
        "        image = cv2.cvtColor(image, cv2.COLOR_BGR2GRAY)\n",
        "        image = cv2.resize(image, image_size)\n",
        "\n",
        "        # Filtering\n",
        "        # image = cv2.GaussianBlur(image,(5,5),0)\n",
        "        # image = cv2.Laplacian(image,cv2.CV_64F)\n",
        "        # image = cv2.GaussianBlur(image,(5,5),0)\n",
        "        # kernel = np.ones((3, 3), np.uint8)\n",
        "        # image = cv2.filter2D(image,-1,kernel)\n",
        "        \n",
        "        data.append((image/255, currentlabel))\n",
        "    \n",
        "    if int(i[6:])<=10:\n",
        "      print(\"Images for\", currentlabel,\":\",  len(all_images))\n",
        "    else:\n",
        "      print(\"Images for\", chr(65-11+currentlabel+1),\":\",  len(all_images))\n",
        "print(\"Total images: \", total_images)"
      ],
      "execution_count": 5,
      "outputs": [
        {
          "output_type": "stream",
          "text": [
            "Images for 0 : 100\n",
            "Images for 1 : 100\n",
            "Images for 2 : 100\n",
            "Images for 3 : 100\n",
            "Images for 4 : 100\n",
            "Images for 5 : 100\n",
            "Images for 6 : 100\n",
            "Images for 7 : 100\n",
            "Images for 8 : 100\n",
            "Images for 9 : 100\n",
            "Images for A : 100\n",
            "Images for B : 100\n",
            "Images for C : 100\n",
            "Images for D : 100\n",
            "Images for E : 100\n",
            "Images for F : 100\n",
            "Images for G : 100\n",
            "Images for H : 100\n",
            "Images for I : 100\n",
            "Images for J : 100\n",
            "Images for K : 100\n",
            "Images for L : 100\n",
            "Images for M : 100\n",
            "Images for N : 100\n",
            "Images for O : 100\n",
            "Images for P : 100\n",
            "Images for Q : 100\n",
            "Images for R : 100\n",
            "Images for S : 100\n",
            "Images for T : 100\n",
            "Images for U : 100\n",
            "Images for V : 100\n",
            "Images for W : 100\n",
            "Images for X : 100\n",
            "Images for Y : 100\n",
            "Images for Z : 100\n",
            "Total images:  3600\n"
          ],
          "name": "stdout"
        }
      ]
    },
    {
      "cell_type": "code",
      "metadata": {
        "id": "kBEvr3VRpKLz"
      },
      "source": [
        "# Shuffling data & making train/test\n",
        "np.random.shuffle(data)\n",
        "n = len(data)\n",
        "p = int(80*n/100)\n",
        "\n",
        "train_images = []\n",
        "train_labels = []\n",
        "test_images = []\n",
        "test_labels = []\n",
        "for i in range(n):\n",
        "    if i<p:\n",
        "        train_images.append(data[i][0])\n",
        "        train_labels.append(data[i][1])\n",
        "    else:\n",
        "        test_images.append(data[i][0])\n",
        "        test_labels.append(data[i][1])"
      ],
      "execution_count": 6,
      "outputs": []
    },
    {
      "cell_type": "code",
      "metadata": {
        "colab": {
          "base_uri": "https://localhost:8080/",
          "height": 532
        },
        "id": "OuF0sxtOMEwn",
        "outputId": "d6463f68-9703-44e9-fcd8-bf7803b53e7e"
      },
      "source": [
        "# Visualizing Training data\n",
        "fig = plt.figure(figsize=(10, 7))\n",
        "\n",
        "for i in range(10):\n",
        "  fig.add_subplot(2, 5, i+1)\n",
        "  print(data[i][1])\n",
        "  imshow(data[i][0])\n",
        "plt.show()"
      ],
      "execution_count": 7,
      "outputs": [
        {
          "output_type": "stream",
          "text": [
            "20\n",
            "2\n",
            "14\n",
            "21\n",
            "23\n",
            "1\n",
            "15\n",
            "13\n",
            "20\n",
            "27\n"
          ],
          "name": "stdout"
        },
        {
          "output_type": "display_data",
          "data": {
            "image/png": "[encoded data removed]",
            "text/plain": [
              "<Figure size 720x504 with 10 Axes>"
            ]
          },
          "metadata": {
            "tags": [],
            "needs_background": "light"
          }
        }
      ]
    },
    {
      "cell_type": "code",
      "metadata": {
        "colab": {
          "base_uri": "https://localhost:8080/"
        },
        "id": "3Yws9xKLpNHf",
        "outputId": "46633a83-6488-4aac-a2ae-e15bdfff5e93"
      },
      "source": [
        "# Making the model and training it\n",
        "model = tf.keras.Sequential([\n",
        "    tf.keras.layers.Flatten(input_shape=image_size),\n",
        "    tf.keras.layers.Dense(500, activation='relu'),\n",
        "    tf.keras.layers.Dense(500, activation='relu'),\n",
        "    tf.keras.layers.Dense(36)\n",
        "])\n",
        "model.compile(\n",
        "    optimizer='adam',\n",
        "    loss=tf.keras.losses.SparseCategoricalCrossentropy(from_logits=True),\n",
        "    metrics=['accuracy']\n",
        ")\n",
        "model.fit(\n",
        "    np.array(train_images), \n",
        "    np.array(train_labels), \n",
        "    epochs=10,\n",
        "    batch_size=100\n",
        ")"
      ],
      "execution_count": 22,
      "outputs": [
        {
          "output_type": "stream",
          "text": [
            "Epoch 1/10\n",
            "29/29 [==============================] - 1s 9ms/step - loss: 2.2042 - accuracy: 0.5528\n",
            "Epoch 2/10\n",
            "29/29 [==============================] - 0s 10ms/step - loss: 0.0665 - accuracy: 0.9889\n",
            "Epoch 3/10\n",
            "29/29 [==============================] - 0s 9ms/step - loss: 0.0196 - accuracy: 0.9957\n",
            "Epoch 4/10\n",
            "29/29 [==============================] - 0s 9ms/step - loss: 0.0057 - accuracy: 0.9992\n",
            "Epoch 5/10\n",
            "29/29 [==============================] - 0s 11ms/step - loss: 0.0110 - accuracy: 0.9972\n",
            "Epoch 6/10\n",
            "29/29 [==============================] - 0s 9ms/step - loss: 0.0028 - accuracy: 0.9999\n",
            "Epoch 7/10\n",
            "29/29 [==============================] - 0s 9ms/step - loss: 0.0071 - accuracy: 0.9979\n",
            "Epoch 8/10\n",
            "29/29 [==============================] - 0s 9ms/step - loss: 0.0062 - accuracy: 0.9981\n",
            "Epoch 9/10\n",
            "29/29 [==============================] - 0s 10ms/step - loss: 0.0021 - accuracy: 0.9996\n",
            "Epoch 10/10\n",
            "29/29 [==============================] - 0s 9ms/step - loss: 0.0014 - accuracy: 0.9998\n"
          ],
          "name": "stdout"
        },
        {
          "output_type": "execute_result",
          "data": {
            "text/plain": [
              "<tensorflow.python.keras.callbacks.History at 0x7fcd8d35d2d0>"
            ]
          },
          "metadata": {
            "tags": []
          },
          "execution_count": 22
        }
      ]
    },
    {
      "cell_type": "code",
      "metadata": {
        "colab": {
          "base_uri": "https://localhost:8080/"
        },
        "id": "db79yJnOzy7g",
        "outputId": "964da3f3-78e9-4648-b9cb-3fd6d4b437b8"
      },
      "source": [
        "# system(\"mkdir -p models\")\n",
        "# model.save('./models/my_model_84.h5')\n",
        "\n",
        "# Predicting on test images\n",
        "probability_model = tf.keras.Sequential([model, tf.keras.layers.Softmax()])\n",
        "predictions = probability_model.predict(np.array(test_images))\n",
        "\n",
        "p=0\n",
        "for i in range(len(test_images)):\n",
        "  if np.argmax(predictions[i]) == test_labels[i]:\n",
        "    p+=1\n",
        "\n",
        "print(\"Test accuracy: \", 100*p/len(test_images))"
      ],
      "execution_count": 23,
      "outputs": [
        {
          "output_type": "stream",
          "text": [
            "Test accuracy:  99.72222222222223\n"
          ],
          "name": "stdout"
        }
      ]
    },
    {
      "cell_type": "code",
      "metadata": {
        "colab": {
          "base_uri": "https://localhost:8080/",
          "height": 144
        },
        "id": "DcEypgpaawjr",
        "outputId": "300e818b-3e6b-40e4-dd7f-74a75a75ffc9"
      },
      "source": [
        "fil_dir = \"./D-captchas-simple-salt-n-pepper/data/\"\n",
        "total = 0\n",
        "char_p = 0\n",
        "char_n = 0\n",
        "cap_p = 0\n",
        "cap_n = 0\n",
        "\n",
        "for fil in listdir(fil_dir)[:100]:\n",
        "  image = cv2.imread(fil_dir + fil)\n",
        "  # imshow(image), plt.show()\n",
        "  gray = cv2.cvtColor(image, cv2.COLOR_BGR2GRAY) \n",
        "  _, thresh = cv2.threshold(gray, 120, 255, cv2.THRESH_BINARY)\n",
        "\n",
        "  cnts, new = cv2.findContours(thresh, cv2.RETR_LIST, cv2.CHAIN_APPROX_SIMPLE)\n",
        "  cnts=sorted(cnts, key = cv2.contourArea, reverse = True)[:30] \n",
        "  captcha = np.invert(thresh)\n",
        "  labelled_captcha = measure.label(captcha)\n",
        "\n",
        "  character_dimensions = (\n",
        "      0.25*captcha.shape[0], \n",
        "      0.95*captcha.shape[0], \n",
        "      0.05*captcha.shape[1], \n",
        "      0.3*captcha.shape[1]\n",
        "  )\n",
        "  min_height, max_height, min_width, max_width = character_dimensions\n",
        "\n",
        "  characters = []\n",
        "  charactersx = []\n",
        "  counter=0\n",
        "  column_list = []\n",
        "  row_list = []\n",
        "  d = []\n",
        "  for regions in regionprops(labelled_captcha):\n",
        "      y0, x0, y1, x1 = regions.bbox\n",
        "      region_height = y1 - y0\n",
        "      region_width = x1 - x0\n",
        "\n",
        "      if region_height > min_height and region_height < max_height and region_width > min_width and region_width < max_width:\n",
        "          roi = captcha[y0:y1, x0:x1]\n",
        "          resized_char = cv2.copyMakeBorder(roi, 10, 10, 10, 10, cv2.BORDER_CONSTANT)\n",
        "          resized_char = resize(roi, image_size)\n",
        "          column_list.append(x0)\n",
        "          d.append([x0, resized_char])\n",
        "  d = sorted(d)\n",
        "  predicted_captcha = \"\"  \n",
        "  ind=0\n",
        "  for _,each_character in d:\n",
        "      x_p,y_p = 3,3\n",
        "      each_character = cv2.copyMakeBorder(each_character, x_p, x_p, y_p, y_p, cv2.BORDER_CONSTANT)\n",
        "      each_character = cv2.resize(each_character,image_size)\n",
        "      \n",
        "      # imshow(each_character), plt.show()\n",
        "      each_character = each_character.reshape(1, -1)\n",
        "    \n",
        "      result, = probability_model.predict([each_character])\n",
        "      r = np.argmax(result)\n",
        "      \n",
        "      if r<10:\n",
        "        # print(chr(48+r))\n",
        "        predicted_captcha+=chr(48+r)\n",
        "        if fil[ind] == chr(48+r):char_p += 1\n",
        "        else:char_n += 1\n",
        "      else:\n",
        "        # print(chr(55+r))\n",
        "        predicted_captcha+=chr(65-10+r)\n",
        "        if fil[ind] == chr(65-10+r):char_p += 1\n",
        "        else:char_n += 1\n",
        "      ind += 1\n",
        "  \n",
        "  if predicted_captcha == fil[:6]: cap_p+=1\n",
        "  else:cap_n+=1\n",
        "\n",
        "  # Statistics\n",
        "  stats = pd.DataFrame(\n",
        "    [\n",
        "        [char_p, char_n, 100*char_p/(char_p+char_n)], \n",
        "        [cap_p, cap_n, 100*cap_p/(cap_p+cap_n)]\n",
        "    ], \n",
        "    index=[\"Char\", \"Captcha\"],\n",
        "    columns=[\"Pos\", \"Neg\", \"Acc\"]\n",
        "  )\n",
        "  total+=1\n",
        "  clear_output(wait=True)\n",
        "  display(HTML(stats.to_html()))\n",
        "  print(\"Current file: \", total)\n",
        "  print(fil[:6], \":\", predicted_captcha)"
      ],
      "execution_count": 24,
      "outputs": [
        {
          "output_type": "display_data",
          "data": {
            "text/html": [
              "<table border=\"1\" class=\"dataframe\">\n",
              "  <thead>\n",
              "    <tr style=\"text-align: right;\">\n",
              "      <th></th>\n",
              "      <th>Pos</th>\n",
              "      <th>Neg</th>\n",
              "      <th>Acc</th>\n",
              "    </tr>\n",
              "  </thead>\n",
              "  <tbody>\n",
              "    <tr>\n",
              "      <th>Char</th>\n",
              "      <td>481</td>\n",
              "      <td>96</td>\n",
              "      <td>83.362218</td>\n",
              "    </tr>\n",
              "    <tr>\n",
              "      <th>Captcha</th>\n",
              "      <td>46</td>\n",
              "      <td>54</td>\n",
              "      <td>46.000000</td>\n",
              "    </tr>\n",
              "  </tbody>\n",
              "</table>"
            ],
            "text/plain": [
              "<IPython.core.display.HTML object>"
            ]
          },
          "metadata": {
            "tags": []
          }
        },
        {
          "output_type": "stream",
          "text": [
            "Current file:  100\n",
            "FLXPCM : FLXPCM\n"
          ],
          "name": "stdout"
        }
      ]
    }
  ]
}