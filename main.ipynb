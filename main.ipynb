{
 "cells": [
  {
   "cell_type": "code",
   "execution_count": 3,
   "metadata": {
    "id": "eBaKsoPeoykt"
   },
   "outputs": [
    {
     "name": "stdout",
     "output_type": "stream",
     "text": [
      "Cloning into 'dataset-training-uppercase-1'...\n",
      "remote: Enumerating objects: 23974, done.\u001b[K\n",
      "remote: Counting objects: 100% (23974/23974), done.\u001b[K\n",
      "remote: Compressing objects: 100% (23974/23974), done.\u001b[K\n",
      "remote: Total 23974 (delta 0), reused 23974 (delta 0), pack-reused 0\u001b[K\n",
      "Receiving objects: 100% (23974/23974), 16.02 MiB | 20.71 MiB/s, done.\n"
     ]
    }
   ],
   "source": [
    "# Developer docs\n",
    "# https://www.tensorflow.org/tutorials/keras/classification\n",
    "# https://www.tensorflow.org/api_docs/python/tf/keras/Model\n",
    "\n",
    "# Importing modules\n",
    "from os import listdir, system\n",
    "import pandas as pd\n",
    "import numpy as np\n",
    "import sys\n",
    "import time\n",
    "import pandas as pd\n",
    "\n",
    "import cv2 as cv2\n",
    "import imutils\n",
    "import imageio\n",
    "import pickle\n",
    "from IPython.display import clear_output, display, HTML\n",
    "\n",
    "\n",
    "from matplotlib.pyplot import imshow\n",
    "import matplotlib.pyplot as plt\n",
    "import matplotlib.patches as patches\n",
    "\n",
    "import tensorflow as tf\n",
    "from skimage.io import imread\n",
    "from skimage import measure\n",
    "from skimage.measure import regionprops\n",
    "from skimage.transform import resize\n",
    "from scipy import ndimage\n",
    "\n",
    "\n",
    "# Downloading dataset from: http://www.ee.surrey.ac.uk/CVSSP/demos/chars74k/\n",
    "# You can comment this after running once.\n",
    "\n",
    "### CHARS74K DATASET FOR TRAINING\n",
    "# !wget http://www.ee.surrey.ac.uk/CVSSP/demos/chars74k/EnglishImg.tgz\n",
    "# !tar -xvzf ./EnglishImg.tgz && rm -rf EnglishImg.tgz\n",
    "# !git clone https://github.com/captcha-breakers/dataset-training-uppercase-1.git\n",
    "\n",
    "# CAPTCHA DATA: DOWNLOAD ANYONE & APPROPRIATELY CONFIGURE THE PATH\n",
    "# !git clone https://github.com/captcha-breakers/dataset-simple-uppercase.git\n",
    "# !git clone https://github.com/rdmpage/solving-captchas-code-examples.git\n",
    "# !git clone https://github.com/captcha-breakers/dataset-pycaptcha-uppercase.git"
   ]
  },
  {
   "cell_type": "code",
   "execution_count": 4,
   "metadata": {
    "colab": {
     "base_uri": "https://localhost:8080/"
    },
    "id": "9IIDQCtPpAxe",
    "outputId": "3a83fcfd-5935-4f9b-87e2-a5a1660c9103"
   },
   "outputs": [
    {
     "name": "stdout",
     "output_type": "stream",
     "text": [
      "['Sample1', 'Sample10', 'Sample11', 'Sample12', 'Sample13', 'Sample14', 'Sample15', 'Sample16', 'Sample17', 'Sample18', 'Sample19', 'Sample2', 'Sample20', 'Sample21', 'Sample22', 'Sample23', 'Sample24', 'Sample25', 'Sample26', 'Sample27', 'Sample28', 'Sample29', 'Sample3', 'Sample30', 'Sample31', 'Sample32', 'Sample33', 'Sample34', 'Sample35', 'Sample36', 'Sample4', 'Sample5', 'Sample6', 'Sample7', 'Sample8', 'Sample9']\n"
     ]
    }
   ],
   "source": [
    "# Setting up folders\n",
    "base_dir = \"./dataset-training-uppercase-1/data/\"\n",
    "folders = listdir(base_dir)\n",
    "folders.sort()\n",
    "folders = folders[:36]\n",
    "print(folders)\n",
    "\n",
    "# Setting image_size\n",
    "image_size = (20, 20)"
   ]
  },
  {
   "cell_type": "code",
   "execution_count": 5,
   "metadata": {
    "colab": {
     "base_uri": "https://localhost:8080/"
    },
    "id": "dnjsqbFbpFOQ",
    "outputId": "6e5d4a9f-54f2-48a4-cfe2-453434596964"
   },
   "outputs": [
    {
     "name": "stdout",
     "output_type": "stream",
     "text": [
      "Images for 0 : 1000\n",
      "Images for 9 : 1000\n",
      "Images for A : 1000\n",
      "Images for B : 1000\n",
      "Images for C : 1000\n",
      "Images for D : 1000\n",
      "Images for E : 1000\n",
      "Images for F : 1000\n",
      "Images for G : 1000\n",
      "Images for H : 1000\n",
      "Images for I : 1000\n",
      "Images for 1 : 1000\n",
      "Images for J : 1000\n",
      "Images for K : 1000\n",
      "Images for L : 1000\n",
      "Images for M : 1000\n",
      "Images for N : 1000\n",
      "Images for O : 1000\n",
      "Images for P : 1000\n",
      "Images for Q : 1000\n",
      "Images for R : 1000\n",
      "Images for S : 1000\n",
      "Images for 2 : 1000\n",
      "Images for T : 1000\n",
      "Images for U : 1000\n",
      "Images for V : 1000\n",
      "Images for W : 1000\n",
      "Images for X : 1000\n",
      "Images for Y : 1000\n",
      "Images for Z : 1000\n",
      "Images for 3 : 1000\n",
      "Images for 4 : 1000\n",
      "Images for 5 : 1000\n",
      "Images for 6 : 1000\n",
      "Images for 7 : 1000\n",
      "Images for 8 : 1000\n",
      "Total images:  36000\n"
     ]
    }
   ],
   "source": [
    "# Collecting images from folders\n",
    "data = []\n",
    "total_images = 0\n",
    "for i in folders:\n",
    "    all_images = listdir(base_dir+i)[:1000]\n",
    "    total_images+=len(all_images)\n",
    "    currentlabel = int(i[6:])-1\n",
    "\n",
    "    for name in all_images:\n",
    "        image = cv2.imread(base_dir+i+\"/\"+name)\n",
    "        image = cv2.cvtColor(image, cv2.COLOR_BGR2GRAY)\n",
    "        image = cv2.resize(image, image_size)\n",
    "\n",
    "        # Filtering\n",
    "        # image = cv2.GaussianBlur(image,(5,5),0)\n",
    "        # image = cv2.Laplacian(image,cv2.CV_64F)\n",
    "        # image = cv2.GaussianBlur(image,(5,5),0)\n",
    "        # kernel = np.ones((3, 3), np.uint8)\n",
    "        # image = cv2.filter2D(image,-1,kernel)\n",
    "        \n",
    "        data.append((image/255, currentlabel))\n",
    "    \n",
    "    if int(i[6:])<=10:\n",
    "      print(\"Images for\", currentlabel,\":\",  len(all_images))\n",
    "    else:\n",
    "      print(\"Images for\", chr(65-11+currentlabel+1),\":\",  len(all_images))\n",
    "print(\"Total images: \", total_images)"
   ]
  },
  {
   "cell_type": "code",
   "execution_count": 6,
   "metadata": {
    "id": "kBEvr3VRpKLz"
   },
   "outputs": [],
   "source": [
    "# Shuffling data & making train/test\n",
    "np.random.shuffle(data)\n",
    "n = len(data)\n",
    "p = int(80*n/100)\n",
    "\n",
    "train_images = []\n",
    "train_labels = []\n",
    "test_images = []\n",
    "test_labels = []\n",
    "for i in range(n):\n",
    "    if i<p:\n",
    "        train_images.append(data[i][0])\n",
    "        train_labels.append(data[i][1])\n",
    "    else:\n",
    "        test_images.append(data[i][0])\n",
    "        test_labels.append(data[i][1])"
   ]
  },
  {
   "cell_type": "code",
   "execution_count": 7,
   "metadata": {
    "colab": {
     "base_uri": "https://localhost:8080/",
     "height": 529
    },
    "id": "OuF0sxtOMEwn",
    "outputId": "f039be59-dc79-402e-8b49-f9d6ab4d19bb"
   },
   "outputs": [
    {
     "name": "stdout",
     "output_type": "stream",
     "text": [
      "1\n",
      "5\n",
      "9\n",
      "27\n",
      "27\n",
      "15\n",
      "21\n",
      "0\n",
      "30\n",
      "23\n"
     ]
    },
    {
     "data": {
      "image/png": "[encoded data removed]",
      "text/plain": [
       "<Figure size 720x504 with 10 Axes>"
      ]
     },
     "metadata": {
      "needs_background": "light"
     },
     "output_type": "display_data"
    }
   ],
   "source": [
    "# Visualizing Training data\n",
    "fig = plt.figure(figsize=(10, 7))\n",
    "\n",
    "for i in range(10):\n",
    "  fig.add_subplot(2, 5, i+1)\n",
    "  print(data[i][1])\n",
    "  imshow(data[i][0])\n",
    "plt.show()"
   ]
  },
  {
   "cell_type": "code",
   "execution_count": 8,
   "metadata": {
    "colab": {
     "base_uri": "https://localhost:8080/"
    },
    "id": "3Yws9xKLpNHf",
    "outputId": "048a15e2-a5f5-4e44-eea0-a7e8d58a2fff"
   },
   "outputs": [
    {
     "name": "stdout",
     "output_type": "stream",
     "text": [
      "Epoch 1/10\n",
      "288/288 [==============================] - 3s 8ms/step - loss: 0.5020 - accuracy: 0.8860\n",
      "Epoch 2/10\n",
      "288/288 [==============================] - 2s 8ms/step - loss: 0.0043 - accuracy: 0.9990\n",
      "Epoch 3/10\n",
      "288/288 [==============================] - 2s 8ms/step - loss: 0.0054 - accuracy: 0.9983\n",
      "Epoch 4/10\n",
      "288/288 [==============================] - 2s 9ms/step - loss: 0.0218 - accuracy: 0.9949\n",
      "Epoch 5/10\n",
      "288/288 [==============================] - 2s 8ms/step - loss: 1.5444e-05 - accuracy: 1.0000\n",
      "Epoch 6/10\n",
      "288/288 [==============================] - 2s 8ms/step - loss: 3.2826e-06 - accuracy: 1.0000\n",
      "Epoch 7/10\n",
      "288/288 [==============================] - 2s 8ms/step - loss: 1.2617e-06 - accuracy: 1.0000\n",
      "Epoch 8/10\n",
      "288/288 [==============================] - 2s 8ms/step - loss: 6.4742e-07 - accuracy: 1.0000\n",
      "Epoch 9/10\n",
      "288/288 [==============================] - 2s 8ms/step - loss: 3.7865e-07 - accuracy: 1.0000\n",
      "Epoch 10/10\n",
      "288/288 [==============================] - 2s 8ms/step - loss: 2.1570e-07 - accuracy: 1.0000\n"
     ]
    },
    {
     "data": {
      "text/plain": [
       "<tensorflow.python.keras.callbacks.History at 0x7fe8d83d6580>"
      ]
     },
     "execution_count": 8,
     "metadata": {},
     "output_type": "execute_result"
    }
   ],
   "source": [
    "# Making the model and training it\n",
    "model = tf.keras.Sequential([\n",
    "    tf.keras.layers.Flatten(input_shape=image_size),\n",
    "    tf.keras.layers.Dense(500, activation='relu'),\n",
    "    tf.keras.layers.Dense(500, activation='relu'),\n",
    "    tf.keras.layers.Dense(500, activation='relu'),\n",
    "    tf.keras.layers.Dense(500, activation='relu'),\n",
    "    tf.keras.layers.Dense(500, activation='relu'),\n",
    "    tf.keras.layers.Dense(36)\n",
    "])\n",
    "model.compile(\n",
    "    optimizer='adam',\n",
    "    loss=tf.keras.losses.SparseCategoricalCrossentropy(from_logits=True),\n",
    "    metrics=['accuracy']\n",
    ")\n",
    "model.fit(\n",
    "    np.array(train_images), \n",
    "    np.array(train_labels), \n",
    "    epochs=10,\n",
    "    batch_size=100\n",
    ")"
   ]
  },
  {
   "cell_type": "code",
   "execution_count": 9,
   "metadata": {
    "colab": {
     "base_uri": "https://localhost:8080/"
    },
    "id": "db79yJnOzy7g",
    "outputId": "e1d2fe5b-2c4b-434c-c467-1ea013ff90e7"
   },
   "outputs": [
    {
     "name": "stdout",
     "output_type": "stream",
     "text": [
      "Test accuracy:  100.0\n"
     ]
    }
   ],
   "source": [
    "system(\"mkdir -p models\")\n",
    "# model.save('./models/my_model_84.h5')\n",
    "\n",
    "# Predicting on test images\n",
    "probability_model = tf.keras.Sequential([model, tf.keras.layers.Softmax()])\n",
    "predictions = probability_model.predict(np.array(test_images))\n",
    "\n",
    "p=0\n",
    "for i in range(len(test_images)):\n",
    "  if np.argmax(predictions[i]) == test_labels[i]:\n",
    "    p+=1\n",
    "\n",
    "print(\"Test accuracy: \", 100*p/len(test_images))"
   ]
  },
  {
   "cell_type": "code",
   "execution_count": 11,
   "metadata": {
    "colab": {
     "base_uri": "https://localhost:8080/",
     "height": 145
    },
    "id": "DcEypgpaawjr",
    "outputId": "d2ef12c0-452c-4c77-cd0b-69790c6d6511"
   },
   "outputs": [
    {
     "data": {
      "text/html": [
       "<table border=\"1\" class=\"dataframe\">\n",
       "  <thead>\n",
       "    <tr style=\"text-align: right;\">\n",
       "      <th></th>\n",
       "      <th>Pos</th>\n",
       "      <th>Neg</th>\n",
       "      <th>Acc</th>\n",
       "    </tr>\n",
       "  </thead>\n",
       "  <tbody>\n",
       "    <tr>\n",
       "      <th>Char</th>\n",
       "      <td>49044</td>\n",
       "      <td>7860</td>\n",
       "      <td>86.187263</td>\n",
       "    </tr>\n",
       "    <tr>\n",
       "      <th>Captcha</th>\n",
       "      <td>6554</td>\n",
       "      <td>3446</td>\n",
       "      <td>65.540000</td>\n",
       "    </tr>\n",
       "  </tbody>\n",
       "</table>"
      ],
      "text/plain": [
       "<IPython.core.display.HTML object>"
      ]
     },
     "metadata": {},
     "output_type": "display_data"
    },
    {
     "name": "stdout",
     "output_type": "stream",
     "text": [
      "Current file:  10000\n",
      "FXYQIR : FXYQR\n"
     ]
    }
   ],
   "source": [
    "fil_dir = \"./dataset-simple-uppercase/data/\"\n",
    "total = 0\n",
    "char_p = 0\n",
    "char_n = 0\n",
    "cap_p = 0\n",
    "cap_n = 0\n",
    "\n",
    "for fil in listdir(fil_dir):\n",
    "  image = cv2.imread(fil_dir + fil)\n",
    "  # imshow(image), plt.show()\n",
    "  gray = cv2.cvtColor(image, cv2.COLOR_BGR2GRAY) \n",
    "  _, thresh = cv2.threshold(gray, 120, 255, cv2.THRESH_BINARY)\n",
    "\n",
    "  cnts, new = cv2.findContours(thresh, cv2.RETR_LIST, cv2.CHAIN_APPROX_SIMPLE)\n",
    "  cnts=sorted(cnts, key = cv2.contourArea, reverse = True)[:30] \n",
    "  captcha = np.invert(thresh)\n",
    "  labelled_captcha = measure.label(captcha)\n",
    "\n",
    "  character_dimensions = (\n",
    "      0.25*captcha.shape[0], \n",
    "      0.95*captcha.shape[0], \n",
    "      0.05*captcha.shape[1], \n",
    "      0.3*captcha.shape[1]\n",
    "  )\n",
    "  min_height, max_height, min_width, max_width = character_dimensions\n",
    "\n",
    "  characters = []\n",
    "  charactersx = []\n",
    "  counter=0\n",
    "  column_list = []\n",
    "  row_list = []\n",
    "  d = []\n",
    "  for regions in regionprops(labelled_captcha):\n",
    "      y0, x0, y1, x1 = regions.bbox\n",
    "      region_height = y1 - y0\n",
    "      region_width = x1 - x0\n",
    "\n",
    "      if region_height > min_height and region_height < max_height and region_width > min_width and region_width < max_width:\n",
    "          roi = captcha[y0:y1, x0:x1]\n",
    "          resized_char = cv2.copyMakeBorder(roi, 10, 10, 10, 10, cv2.BORDER_CONSTANT)\n",
    "          resized_char = resize(roi, image_size)\n",
    "          column_list.append(x0)\n",
    "          d.append([x0, resized_char])\n",
    "  d = sorted(d)\n",
    "  predicted_captcha = \"\"  \n",
    "  ind=0\n",
    "  for _,each_character in d:\n",
    "      x_p,y_p = 3,3\n",
    "      each_character = cv2.copyMakeBorder(each_character, x_p, x_p, y_p, y_p, cv2.BORDER_CONSTANT)\n",
    "      each_character = cv2.resize(each_character,image_size)\n",
    "      \n",
    "      # imshow(each_character), plt.show()\n",
    "      each_character = each_character.reshape(1, -1)\n",
    "    \n",
    "      result, = probability_model.predict([each_character])\n",
    "      r = np.argmax(result)\n",
    "      \n",
    "      if r<10:\n",
    "        # print(chr(48+r))\n",
    "        predicted_captcha+=chr(48+r)\n",
    "        if fil[ind] == chr(48+r):char_p += 1\n",
    "        else:char_n += 1\n",
    "      else:\n",
    "        # print(chr(55+r))\n",
    "        predicted_captcha+=chr(65-10+r)\n",
    "        if fil[ind] == chr(65-10+r):char_p += 1\n",
    "        else:char_n += 1\n",
    "      ind += 1\n",
    "  \n",
    "  if predicted_captcha == fil[:6]: cap_p+=1\n",
    "  else:cap_n+=1\n",
    "\n",
    "  # Statistics\n",
    "  stats = pd.DataFrame(\n",
    "    [\n",
    "        [char_p, char_n, 100*char_p/(char_p+char_n)], \n",
    "        [cap_p, cap_n, 100*cap_p/(cap_p+cap_n)]\n",
    "    ], \n",
    "    index=[\"Char\", \"Captcha\"],\n",
    "    columns=[\"Pos\", \"Neg\", \"Acc\"]\n",
    "  )\n",
    "  total+=1\n",
    "  clear_output(wait=True)\n",
    "  display(HTML(stats.to_html()))\n",
    "  print(\"Current file: \", total)\n",
    "  print(fil[:6], \":\", predicted_captcha)"
   ]
  }
 ],
 "metadata": {
  "colab": {
   "collapsed_sections": [],
   "name": "Copy of Copy of Captcha-using-tensorflow-on-chars74K.ipynb",
   "provenance": []
  },
  "kernelspec": {
   "display_name": "Python 3",
   "language": "python",
   "name": "python3"
  },
  "language_info": {
   "codemirror_mode": {
    "name": "ipython",
    "version": 3
   },
   "file_extension": ".py",
   "mimetype": "text/x-python",
   "name": "python",
   "nbconvert_exporter": "python",
   "pygments_lexer": "ipython3",
   "version": "3.8.5"
  }
 },
 "nbformat": 4,
 "nbformat_minor": 1
}
