{
  "nbformat": 4,
  "nbformat_minor": 0,
  "metadata": {
    "colab": {
      "name": "Copy of Captcha-using-tensorflow-on-chars74K.ipynb",
      "provenance": [],
      "collapsed_sections": []
    },
    "kernelspec": {
      "display_name": "Python 3",
      "language": "python",
      "name": "python3"
    },
    "language_info": {
      "codemirror_mode": {
        "name": "ipython",
        "version": 3
      },
      "file_extension": ".py",
      "mimetype": "text/x-python",
      "name": "python",
      "nbconvert_exporter": "python",
      "pygments_lexer": "ipython3",
      "version": "3.8.5"
    }
  },
  "cells": [
    {
      "cell_type": "code",
      "metadata": {
        "id": "eBaKsoPeoykt"
      },
      "source": [
        "# Developer docs\n",
        "# https://www.tensorflow.org/tutorials/keras/classification\n",
        "# https://www.tensorflow.org/api_docs/python/tf/keras/Model\n",
        "\n",
        "# Importing modules\n",
        "from os import listdir, system\n",
        "import pandas as pd\n",
        "import numpy as np\n",
        "import sys\n",
        "import time\n",
        "import pandas as pd\n",
        "\n",
        "import cv2 as cv2\n",
        "import imutils\n",
        "import imageio\n",
        "import pickle\n",
        "from IPython.display import clear_output, display, HTML\n",
        "\n",
        "\n",
        "from matplotlib.pyplot import imshow\n",
        "import matplotlib.pyplot as plt\n",
        "import matplotlib.patches as patches\n",
        "\n",
        "import tensorflow as tf\n",
        "from skimage.io import imread\n",
        "from skimage import measure\n",
        "from skimage.measure import regionprops\n",
        "from skimage.transform import resize\n",
        "from scipy import ndimage\n",
        "\n",
        "\n",
        "# Downloading dataset from: http://www.ee.surrey.ac.uk/CVSSP/demos/chars74k/\n",
        "# You can comment this after running once.\n",
        "\n",
        "### CHARS74K DATASET FOR TRAINING\n",
        "# !wget http://www.ee.surrey.ac.uk/CVSSP/demos/chars74k/EnglishImg.tgz\n",
        "# !tar -xvzf ./EnglishImg.tgz && rm -rf EnglishImg.tgz\n",
        "\n",
        "# CAPTCHA DATA: DOWNLOAD ANYONE & APPROPRIATELY CONFIGURE THE PATH\n",
        "# !git clone https://github.com/captcha-breakers/dataset-simple-uppercase.git\n",
        "# !git clone https://github.com/rdmpage/solving-captchas-code-examples.git\n",
        "# !git clone https://github.com/captcha-breakers/dataset-pycaptcha-uppercase.git"
      ],
      "execution_count": 4,
      "outputs": []
    },
    {
      "cell_type": "code",
      "metadata": {
        "colab": {
          "base_uri": "https://localhost:8080/"
        },
        "id": "9IIDQCtPpAxe",
        "outputId": "6e1ea52f-7b40-4fa8-c46e-1771ff33e7e2"
      },
      "source": [
        "# Setting up folders\n",
        "base_dir = \"./English/Img/GoodImg/Bmp/\"\n",
        "folders = listdir(base_dir)\n",
        "folders.sort()\n",
        "folders = folders[:36]\n",
        "print(folders)\n",
        "\n",
        "# Setting image_size\n",
        "image_size = (20, 20)"
      ],
      "execution_count": 18,
      "outputs": [
        {
          "output_type": "stream",
          "text": [
            "['Sample001', 'Sample002', 'Sample003', 'Sample004', 'Sample005', 'Sample006', 'Sample007', 'Sample008', 'Sample009', 'Sample010', 'Sample011', 'Sample012', 'Sample013', 'Sample014', 'Sample015', 'Sample016', 'Sample017', 'Sample018', 'Sample019', 'Sample020', 'Sample021', 'Sample022', 'Sample023', 'Sample024', 'Sample025', 'Sample026', 'Sample027', 'Sample028', 'Sample029', 'Sample030', 'Sample031', 'Sample032', 'Sample033', 'Sample034', 'Sample035', 'Sample036']\n"
          ],
          "name": "stdout"
        }
      ]
    },
    {
      "cell_type": "code",
      "metadata": {
        "colab": {
          "base_uri": "https://localhost:8080/"
        },
        "id": "dnjsqbFbpFOQ",
        "outputId": "e1c5c655-8845-4621-9dde-f515558c530d"
      },
      "source": [
        "# Collecting images from folders\n",
        "data = []\n",
        "total_images = 0\n",
        "for i in folders:\n",
        "    all_images = listdir(base_dir+i)[:200]\n",
        "    total_images+=len(all_images)\n",
        "    currentlabel = int(i[6:])-1\n",
        "\n",
        "    for name in all_images:\n",
        "        image = cv2.imread(base_dir+i+\"/\"+name)\n",
        "        image = cv2.cvtColor(image, cv2.COLOR_BGR2GRAY)\n",
        "        image = cv2.resize(image, image_size)\n",
        "\n",
        "        # Filtering\n",
        "        image = cv2.GaussianBlur(image,(5,5),0)\n",
        "        image = cv2.Laplacian(image,cv2.CV_64F)\n",
        "        image = cv2.GaussianBlur(image,(5,5),0)\n",
        "        kernel = np.ones((3, 3), np.uint8)\n",
        "        image = cv2.filter2D(image,-1,kernel)\n",
        "        \n",
        "        data.append((image/255, currentlabel))\n",
        "    \n",
        "    if int(i[6:])<=10:\n",
        "      print(\"Images for\", currentlabel,\":\",  len(all_images))\n",
        "    else:\n",
        "      print(\"Images for\", chr(65-11+currentlabel+1),\":\",  len(all_images))\n",
        "print(\"Total images: \", total_images)"
      ],
      "execution_count": 106,
      "outputs": [
        {
          "output_type": "stream",
          "text": [
            "Images for 0 : 105\n",
            "Images for 1 : 79\n",
            "Images for 2 : 70\n",
            "Images for 3 : 50\n",
            "Images for 4 : 47\n",
            "Images for 5 : 64\n",
            "Images for 6 : 64\n",
            "Images for 7 : 48\n",
            "Images for 8 : 32\n",
            "Images for 9 : 34\n",
            "Images for A : 200\n",
            "Images for B : 115\n",
            "Images for C : 200\n",
            "Images for D : 191\n",
            "Images for E : 200\n",
            "Images for F : 79\n",
            "Images for G : 143\n",
            "Images for H : 193\n",
            "Images for I : 200\n",
            "Images for J : 77\n",
            "Images for K : 92\n",
            "Images for L : 200\n",
            "Images for M : 149\n",
            "Images for N : 200\n",
            "Images for O : 200\n",
            "Images for P : 159\n",
            "Images for Q : 35\n",
            "Images for R : 200\n",
            "Images for S : 200\n",
            "Images for T : 200\n",
            "Images for U : 92\n",
            "Images for V : 84\n",
            "Images for W : 67\n",
            "Images for X : 80\n",
            "Images for Y : 67\n",
            "Images for Z : 55\n",
            "Total images:  4271\n"
          ],
          "name": "stdout"
        }
      ]
    },
    {
      "cell_type": "code",
      "metadata": {
        "id": "kBEvr3VRpKLz"
      },
      "source": [
        "# Shuffling data & making train/test\n",
        "np.random.shuffle(data)\n",
        "n = len(data)\n",
        "p = int(80*n/100)\n",
        "\n",
        "train_images = []\n",
        "train_labels = []\n",
        "test_images = []\n",
        "test_labels = []\n",
        "for i in range(n):\n",
        "    if i<p:\n",
        "        train_images.append(data[i][0])\n",
        "        train_labels.append(data[i][1])\n",
        "    else:\n",
        "        test_images.append(data[i][0])\n",
        "        test_labels.append(data[i][1])"
      ],
      "execution_count": 107,
      "outputs": []
    },
    {
      "cell_type": "code",
      "metadata": {
        "id": "OuF0sxtOMEwn",
        "colab": {
          "base_uri": "https://localhost:8080/",
          "height": 146
        },
        "outputId": "73708e4e-d7c1-490d-d98f-6d587c29d24d"
      },
      "source": [
        "# Visualizing Training data\n",
        "fig = plt.figure(figsize=(10, 7))\n",
        "fig.add_subplot(1, 5, 1)\n",
        "imshow(data[0][0])\n",
        "fig.add_subplot(1, 5, 2)\n",
        "imshow(data[1][0])\n",
        "fig.add_subplot(1, 5, 3)\n",
        "imshow(data[2][0])\n",
        "fig.add_subplot(1, 5, 4)\n",
        "imshow(data[3][0])\n",
        "fig.add_subplot(1, 5, 5)\n",
        "imshow(data[4][0])\n",
        "plt.show()"
      ],
      "execution_count": 108,
      "outputs": [
        {
          "output_type": "display_data",
          "data": {
            "image/png": "[encoded data removed]",
            "text/plain": [
              "<Figure size 720x504 with 5 Axes>"
            ]
          },
          "metadata": {
            "tags": [],
            "needs_background": "light"
          }
        }
      ]
    },
    {
      "cell_type": "code",
      "metadata": {
        "colab": {
          "base_uri": "https://localhost:8080/"
        },
        "id": "3Yws9xKLpNHf",
        "outputId": "250c61cc-576b-4d66-8519-9da6ddb531f6"
      },
      "source": [
        "# Making the model and training it\n",
        "model = tf.keras.Sequential([\n",
        "    tf.keras.layers.Flatten(input_shape=image_size),\n",
        "    tf.keras.layers.Dense(200, activation='relu'),\n",
        "    tf.keras.layers.Dense(200, activation='relu'),\n",
        "    tf.keras.layers.Dense(200, activation='relu'),\n",
        "    tf.keras.layers.Dense(36)\n",
        "])\n",
        "model.compile(\n",
        "    optimizer='adam',\n",
        "    loss=tf.keras.losses.SparseCategoricalCrossentropy(from_logits=True),\n",
        "    metrics=['accuracy']\n",
        ")\n",
        "model.fit(np.array(train_images), np.array(train_labels), epochs=20, batch_size=20)"
      ],
      "execution_count": 109,
      "outputs": [
        {
          "output_type": "stream",
          "text": [
            "Epoch 1/20\n",
            "171/171 [==============================] - 1s 3ms/step - loss: 3.1511 - accuracy: 0.1921\n",
            "Epoch 2/20\n",
            "171/171 [==============================] - 1s 3ms/step - loss: 1.5949 - accuracy: 0.5586\n",
            "Epoch 3/20\n",
            "171/171 [==============================] - 1s 4ms/step - loss: 1.0186 - accuracy: 0.7206\n",
            "Epoch 4/20\n",
            "171/171 [==============================] - 1s 3ms/step - loss: 0.7179 - accuracy: 0.7961\n",
            "Epoch 5/20\n",
            "171/171 [==============================] - 1s 3ms/step - loss: 0.5398 - accuracy: 0.8503\n",
            "Epoch 6/20\n",
            "171/171 [==============================] - 1s 3ms/step - loss: 0.4327 - accuracy: 0.8726\n",
            "Epoch 7/20\n",
            "171/171 [==============================] - 1s 3ms/step - loss: 0.2989 - accuracy: 0.9141\n",
            "Epoch 8/20\n",
            "171/171 [==============================] - 1s 3ms/step - loss: 0.2419 - accuracy: 0.9287\n",
            "Epoch 9/20\n",
            "171/171 [==============================] - 1s 3ms/step - loss: 0.1894 - accuracy: 0.9565\n",
            "Epoch 10/20\n",
            "171/171 [==============================] - 1s 3ms/step - loss: 0.1933 - accuracy: 0.9438\n",
            "Epoch 11/20\n",
            "171/171 [==============================] - 1s 3ms/step - loss: 0.1643 - accuracy: 0.9484\n",
            "Epoch 12/20\n",
            "171/171 [==============================] - 1s 3ms/step - loss: 0.1250 - accuracy: 0.9606\n",
            "Epoch 13/20\n",
            "171/171 [==============================] - 1s 4ms/step - loss: 0.1281 - accuracy: 0.9645\n",
            "Epoch 14/20\n",
            "171/171 [==============================] - 1s 3ms/step - loss: 0.1103 - accuracy: 0.9646\n",
            "Epoch 15/20\n",
            "171/171 [==============================] - 1s 3ms/step - loss: 0.1046 - accuracy: 0.9695\n",
            "Epoch 16/20\n",
            "171/171 [==============================] - 1s 3ms/step - loss: 0.1129 - accuracy: 0.9669\n",
            "Epoch 17/20\n",
            "171/171 [==============================] - 1s 3ms/step - loss: 0.1321 - accuracy: 0.9673\n",
            "Epoch 18/20\n",
            "171/171 [==============================] - 1s 3ms/step - loss: 0.0569 - accuracy: 0.9854\n",
            "Epoch 19/20\n",
            "171/171 [==============================] - 1s 3ms/step - loss: 0.0323 - accuracy: 0.9889\n",
            "Epoch 20/20\n",
            "171/171 [==============================] - 1s 3ms/step - loss: 0.0590 - accuracy: 0.9848\n"
          ],
          "name": "stdout"
        },
        {
          "output_type": "execute_result",
          "data": {
            "text/plain": [
              "<tensorflow.python.keras.callbacks.History at 0x7eff8b9c1590>"
            ]
          },
          "metadata": {
            "tags": []
          },
          "execution_count": 109
        }
      ]
    },
    {
      "cell_type": "code",
      "metadata": {
        "colab": {
          "base_uri": "https://localhost:8080/"
        },
        "id": "db79yJnOzy7g",
        "outputId": "54dd821e-89b8-4b36-8fba-4475abb8b8dd"
      },
      "source": [
        "system(\"mkdir -p models\")\n",
        "# model.save('./models/my_model_84.h5')\n",
        "\n",
        "# Predicting on test images\n",
        "probability_model = tf.keras.Sequential([model, tf.keras.layers.Softmax()])\n",
        "predictions = probability_model.predict(np.array(test_images))\n",
        "\n",
        "p=0\n",
        "for i in range(len(test_images)):\n",
        "  if np.argmax(predictions[i]) == test_labels[i]:\n",
        "    p+=1\n",
        "\n",
        "print(\"Test accuracy: \", 100*p/len(test_images))"
      ],
      "execution_count": 110,
      "outputs": [
        {
          "output_type": "stream",
          "text": [
            "Test accuracy:  78.94736842105263\n"
          ],
          "name": "stdout"
        }
      ]
    },
    {
      "cell_type": "code",
      "metadata": {
        "colab": {
          "base_uri": "https://localhost:8080/",
          "height": 145
        },
        "id": "DcEypgpaawjr",
        "outputId": "cb7008d3-f48e-41f0-f62b-7e43decd23ef"
      },
      "source": [
        "fil_dir = \"./solving-captchas-code-examples/generated_captcha_images/\"\n",
        "total = 0\n",
        "char_p = 0\n",
        "char_n = 0\n",
        "cap_p = 0\n",
        "cap_n = 0\n",
        "\n",
        "for fil in listdir(fil_dir)[:100]:\n",
        "  image = cv2.imread(fil_dir + fil)\n",
        "  # imshow(image), plt.show()\n",
        "  gray = cv2.cvtColor(image, cv2.COLOR_BGR2GRAY) \n",
        "  _, thresh = cv2.threshold(gray, 120, 255, cv2.THRESH_BINARY)\n",
        "\n",
        "  cnts, new = cv2.findContours(thresh, cv2.RETR_LIST, cv2.CHAIN_APPROX_SIMPLE)\n",
        "  cnts=sorted(cnts, key = cv2.contourArea, reverse = True)[:30] \n",
        "  captcha = np.invert(thresh)\n",
        "  labelled_captcha = measure.label(captcha)\n",
        "\n",
        "  character_dimensions = (0.25*captcha.shape[0], 0.95*captcha.shape[0], 0.05*captcha.shape[1], 0.3*captcha.shape[1])\n",
        "  min_height, max_height, min_width, max_width = character_dimensions\n",
        "\n",
        "  characters = []\n",
        "  charactersx = []\n",
        "  counter=0\n",
        "  column_list = []\n",
        "  row_list = []\n",
        "  d = []\n",
        "  for regions in regionprops(labelled_captcha):\n",
        "      y0, x0, y1, x1 = regions.bbox\n",
        "      region_height = y1 - y0\n",
        "      region_width = x1 - x0\n",
        "\n",
        "      if region_height > min_height and region_height < max_height and region_width > min_width and region_width < max_width:\n",
        "          roi = captcha[y0:y1, x0:x1]\n",
        "          resized_char = cv2.copyMakeBorder(roi, 10, 10, 10, 10, cv2.BORDER_CONSTANT)\n",
        "          resized_char = resize(roi, image_size)\n",
        "          column_list.append(x0)\n",
        "          d.append([x0, resized_char])\n",
        "  d = sorted(d)\n",
        "  predicted_captcha = \"\"  \n",
        "  ind=0\n",
        "  for _,each_character in d:\n",
        "      x_p,y_p = 3,3\n",
        "      each_character = cv2.copyMakeBorder(each_character, x_p, x_p, y_p, y_p, cv2.BORDER_CONSTANT)\n",
        "      each_character = cv2.resize(each_character,image_size)\n",
        "      \n",
        "      # imshow(each_character), plt.show()\n",
        "      each_character = each_character.reshape(1, -1)\n",
        "    \n",
        "      result, = probability_model.predict([each_character])\n",
        "      r = np.argmax(result)\n",
        "      \n",
        "      if r<10:\n",
        "        # print(chr(48+r))\n",
        "        predicted_captcha+=chr(48+r)\n",
        "        if fil[ind] == chr(48+r):char_p += 1\n",
        "        else:char_n += 1\n",
        "      else:\n",
        "        # print(chr(55+r))\n",
        "        predicted_captcha+=chr(65-10+r)\n",
        "        if fil[ind] == chr(65-10+r):char_p += 1\n",
        "        else:char_n += 1\n",
        "      ind += 1\n",
        "  \n",
        "  if predicted_captcha == fil[:4]: cap_p+=1\n",
        "  else:cap_n+=1\n",
        "\n",
        "  # Statistics\n",
        "  stats = pd.DataFrame(\n",
        "    [\n",
        "        [char_p, char_n, 100*char_p/(char_p+char_n)], \n",
        "        [cap_p, cap_n, 100*cap_p/(cap_p+cap_n)]\n",
        "    ], \n",
        "    index=[\"Char\", \"Captcha\"],\n",
        "    columns=[\"Pos\", \"Neg\", \"Acc\"]\n",
        "  )\n",
        "  total+=1\n",
        "  clear_output(wait=True)\n",
        "  display(HTML(stats.to_html()))\n",
        "  print(\"Current file: \", total)\n",
        "  print(fil[:4], \":\", predicted_captcha)"
      ],
      "execution_count": 112,
      "outputs": [
        {
          "output_type": "display_data",
          "data": {
            "text/html": [
              "<table border=\"1\" class=\"dataframe\">\n",
              "  <thead>\n",
              "    <tr style=\"text-align: right;\">\n",
              "      <th></th>\n",
              "      <th>Pos</th>\n",
              "      <th>Neg</th>\n",
              "      <th>Acc</th>\n",
              "    </tr>\n",
              "  </thead>\n",
              "  <tbody>\n",
              "    <tr>\n",
              "      <th>Char</th>\n",
              "      <td>277</td>\n",
              "      <td>120</td>\n",
              "      <td>69.7733</td>\n",
              "    </tr>\n",
              "    <tr>\n",
              "      <th>Captcha</th>\n",
              "      <td>29</td>\n",
              "      <td>71</td>\n",
              "      <td>29.0000</td>\n",
              "    </tr>\n",
              "  </tbody>\n",
              "</table>"
            ],
            "text/plain": [
              "<IPython.core.display.HTML object>"
            ]
          },
          "metadata": {
            "tags": []
          }
        },
        {
          "output_type": "stream",
          "text": [
            "Current file:  100\n",
            "VZK2 : VZK2\n"
          ],
          "name": "stdout"
        }
      ]
    }
  ]
}