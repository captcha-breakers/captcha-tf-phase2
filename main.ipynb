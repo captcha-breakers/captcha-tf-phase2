{
  "nbformat": 4,
  "nbformat_minor": 0,
  "metadata": {
    "colab": {
      "name": "Copy of Copy of Copy of Captcha-using-tensorflow-on-chars74K.ipynb",
      "provenance": [],
      "collapsed_sections": []
    },
    "kernelspec": {
      "display_name": "Python 3",
      "language": "python",
      "name": "python3"
    },
    "language_info": {
      "codemirror_mode": {
        "name": "ipython",
        "version": 3
      },
      "file_extension": ".py",
      "mimetype": "text/x-python",
      "name": "python",
      "nbconvert_exporter": "python",
      "pygments_lexer": "ipython3",
      "version": "3.8.5"
    }
  },
  "cells": [
    {
      "cell_type": "code",
      "metadata": {
        "id": "eBaKsoPeoykt"
      },
      "source": [
        "# Developer docs\n",
        "# https://www.tensorflow.org/tutorials/keras/classification\n",
        "# https://www.tensorflow.org/api_docs/python/tf/keras/Model\n",
        "\n",
        "# Importing modules\n",
        "from os import listdir, system\n",
        "import pandas as pd\n",
        "import numpy as np\n",
        "import sys\n",
        "import time\n",
        "import pandas as pd\n",
        "\n",
        "import cv2 as cv2\n",
        "import imutils\n",
        "import imageio\n",
        "import pickle\n",
        "from IPython.display import clear_output, display, HTML\n",
        "\n",
        "\n",
        "from matplotlib.pyplot import imshow\n",
        "import matplotlib.pyplot as plt\n",
        "import matplotlib.patches as patches\n",
        "\n",
        "import tensorflow as tf\n",
        "from skimage.io import imread\n",
        "from skimage import measure\n",
        "from skimage.measure import regionprops\n",
        "from skimage.transform import resize\n",
        "from scipy import ndimage\n",
        "\n",
        "\n",
        "# Downloading dataset from: http://www.ee.surrey.ac.uk/CVSSP/demos/chars74k/\n",
        "# You can comment this after running once.\n",
        "\n",
        "### CHARS74K DATASET FOR TRAINING\n",
        "# !wget http://www.ee.surrey.ac.uk/CVSSP/demos/chars74k/EnglishImg.tgz\n",
        "# !tar -xvzf ./EnglishImg.tgz && rm -rf EnglishImg.tgz\n",
        "# !git clone https://github.com/captcha-breakers/dataset-training-uppercase-1.git\n",
        "# !git clone https://github.com/captcha-breakers/D-training-color-noise.git\n",
        "# !git clone https://github.com/captcha-breakers/D-training-color-noise-trans.git\n",
        "\n",
        "# CAPTCHA DATA: DOWNLOAD ANYONE & APPROPRIATELY CONFIGURE THE PATH\n",
        "# !git clone https://github.com/captcha-breakers/dataset-simple-uppercase.git\n",
        "# !git clone https://github.com/rdmpage/solving-captchas-code-examples.git\n",
        "# !git clone https://github.com/captcha-breakers/dataset-pycaptcha-uppercase.git"
      ],
      "execution_count": 34,
      "outputs": []
    },
    {
      "cell_type": "code",
      "metadata": {
        "colab": {
          "base_uri": "https://localhost:8080/"
        },
        "id": "9IIDQCtPpAxe",
        "outputId": "7ea23472-80b0-4737-d952-10102fe84b82"
      },
      "source": [
        "# Setting up folders\n",
        "base_dir = \"./D-training-color-noise-trans/data/\"\n",
        "folders = listdir(base_dir)\n",
        "folders.sort()\n",
        "folders = folders[10:36]\n",
        "print(folders)\n",
        "\n",
        "# Setting image_size\n",
        "image_size = (20, 20)"
      ],
      "execution_count": 35,
      "outputs": [
        {
          "output_type": "stream",
          "text": [
            "['Sample011', 'Sample012', 'Sample013', 'Sample014', 'Sample015', 'Sample016', 'Sample017', 'Sample018', 'Sample019', 'Sample020', 'Sample021', 'Sample022', 'Sample023', 'Sample024', 'Sample025', 'Sample026', 'Sample027', 'Sample028', 'Sample029', 'Sample030', 'Sample031', 'Sample032', 'Sample033', 'Sample034', 'Sample035', 'Sample036']\n"
          ],
          "name": "stdout"
        }
      ]
    },
    {
      "cell_type": "code",
      "metadata": {
        "colab": {
          "base_uri": "https://localhost:8080/"
        },
        "id": "dnjsqbFbpFOQ",
        "outputId": "1704c60e-2d49-4b01-c567-3897ac47107b"
      },
      "source": [
        "# Collecting images from folders\n",
        "data = []\n",
        "total_images = 0\n",
        "for i in folders:\n",
        "    all_images = listdir(base_dir+i)[:1000]\n",
        "    total_images+=len(all_images)\n",
        "    currentlabel = int(i[6:])-11\n",
        "\n",
        "    print(i, \":\", currentlabel)\n",
        "\n",
        "    for name in all_images:\n",
        "        image = cv2.imread(base_dir+i+\"/\"+name)\n",
        "        image = cv2.cvtColor(image, cv2.COLOR_BGR2GRAY)\n",
        "        image = cv2.resize(image, image_size)\n",
        "\n",
        "        # Filtering\n",
        "        # image = cv2.GaussianBlur(image,(5,5),0)\n",
        "        # image = cv2.Laplacian(image,cv2.CV_64F)\n",
        "        # image = cv2.GaussianBlur(image,(5,5),0)\n",
        "        # kernel = np.ones((3, 3), np.uint8)\n",
        "        # image = cv2.filter2D(image,-1,kernel)\n",
        "        \n",
        "        data.append((1-image/255, currentlabel))\n",
        "    \n",
        "    # if int(i[6:])<=10:\n",
        "    #   print(\"Images for\", currentlabel,\":\",  len(all_images))\n",
        "    # else:\n",
        "      # print(\"Images for\", chr(65-11+currentlabel+1),\":\",  len(all_images))\n",
        "print(\"Total images: \", total_images)"
      ],
      "execution_count": 36,
      "outputs": [
        {
          "output_type": "stream",
          "text": [
            "Sample011 : 0\n",
            "Sample012 : 1\n",
            "Sample013 : 2\n",
            "Sample014 : 3\n",
            "Sample015 : 4\n",
            "Sample016 : 5\n",
            "Sample017 : 6\n",
            "Sample018 : 7\n",
            "Sample019 : 8\n",
            "Sample020 : 9\n",
            "Sample021 : 10\n",
            "Sample022 : 11\n",
            "Sample023 : 12\n",
            "Sample024 : 13\n",
            "Sample025 : 14\n",
            "Sample026 : 15\n",
            "Sample027 : 16\n",
            "Sample028 : 17\n",
            "Sample029 : 18\n",
            "Sample030 : 19\n",
            "Sample031 : 20\n",
            "Sample032 : 21\n",
            "Sample033 : 22\n",
            "Sample034 : 23\n",
            "Sample035 : 24\n",
            "Sample036 : 25\n",
            "Total images:  26000\n"
          ],
          "name": "stdout"
        }
      ]
    },
    {
      "cell_type": "code",
      "metadata": {
        "id": "kBEvr3VRpKLz"
      },
      "source": [
        "# Shuffling data & making train/test\n",
        "np.random.shuffle(data)\n",
        "n = len(data)\n",
        "p = int(80*n/100)\n",
        "\n",
        "train_images = []\n",
        "train_labels = []\n",
        "test_images = []\n",
        "test_labels = []\n",
        "for i in range(n):\n",
        "    if i<p:\n",
        "        train_images.append(data[i][0])\n",
        "        train_labels.append(data[i][1])\n",
        "    else:\n",
        "        test_images.append(data[i][0])\n",
        "        test_labels.append(data[i][1])"
      ],
      "execution_count": 37,
      "outputs": []
    },
    {
      "cell_type": "code",
      "metadata": {
        "colab": {
          "base_uri": "https://localhost:8080/",
          "height": 532
        },
        "id": "OuF0sxtOMEwn",
        "outputId": "24b18ff2-abbb-4a38-9dba-93b19bf2e55a"
      },
      "source": [
        "# Visualizing Training data\n",
        "fig = plt.figure(figsize=(10, 7))\n",
        "\n",
        "for i in range(10):\n",
        "  fig.add_subplot(2, 5, i+1)\n",
        "  print(data[i][1])\n",
        "  imshow(data[i][0])\n",
        "plt.show()"
      ],
      "execution_count": 38,
      "outputs": [
        {
          "output_type": "stream",
          "text": [
            "9\n",
            "8\n",
            "10\n",
            "24\n",
            "1\n",
            "7\n",
            "20\n",
            "20\n",
            "22\n",
            "20\n"
          ],
          "name": "stdout"
        },
        {
          "output_type": "display_data",
          "data": {
            "image/png": "[encoded data removed]",
            "text/plain": [
              "<Figure size 720x504 with 10 Axes>"
            ]
          },
          "metadata": {
            "tags": [],
            "needs_background": "light"
          }
        }
      ]
    },
    {
      "cell_type": "code",
      "metadata": {
        "colab": {
          "base_uri": "https://localhost:8080/"
        },
        "id": "3Yws9xKLpNHf",
        "outputId": "817564a8-3e29-4874-efa4-f91f91ce52f7"
      },
      "source": [
        "# Making the model and training it\n",
        "model = tf.keras.Sequential([\n",
        "    tf.keras.layers.Flatten(input_shape=image_size),\n",
        "    tf.keras.layers.Dense(50, activation='relu'),\n",
        "    tf.keras.layers.Dense(50, activation='relu'),\n",
        "    tf.keras.layers.Dense(50, activation='relu'),\n",
        "    tf.keras.layers.Dense(26)\n",
        "])\n",
        "model.compile(\n",
        "    optimizer='adam',\n",
        "    loss=tf.keras.losses.SparseCategoricalCrossentropy(from_logits=True),\n",
        "    metrics=['accuracy']\n",
        ")\n",
        "model.fit(\n",
        "    np.array(train_images), \n",
        "    np.array(train_labels), \n",
        "    epochs=20,\n",
        "    batch_size=100\n",
        ")"
      ],
      "execution_count": 45,
      "outputs": [
        {
          "output_type": "stream",
          "text": [
            "Epoch 1/20\n",
            "208/208 [==============================] - 1s 2ms/step - loss: 1.9959 - accuracy: 0.4942\n",
            "Epoch 2/20\n",
            "208/208 [==============================] - 0s 2ms/step - loss: 0.1585 - accuracy: 0.9678\n",
            "Epoch 3/20\n",
            "208/208 [==============================] - 1s 3ms/step - loss: 0.0824 - accuracy: 0.9833\n",
            "Epoch 4/20\n",
            "208/208 [==============================] - 0s 2ms/step - loss: 0.0552 - accuracy: 0.9889\n",
            "Epoch 5/20\n",
            "208/208 [==============================] - 0s 2ms/step - loss: 0.0418 - accuracy: 0.9910\n",
            "Epoch 6/20\n",
            "208/208 [==============================] - 1s 3ms/step - loss: 0.0315 - accuracy: 0.9928\n",
            "Epoch 7/20\n",
            "208/208 [==============================] - 0s 2ms/step - loss: 0.0258 - accuracy: 0.9953\n",
            "Epoch 8/20\n",
            "208/208 [==============================] - 0s 2ms/step - loss: 0.0186 - accuracy: 0.9960\n",
            "Epoch 9/20\n",
            "208/208 [==============================] - 0s 2ms/step - loss: 0.0162 - accuracy: 0.9967\n",
            "Epoch 10/20\n",
            "208/208 [==============================] - 1s 2ms/step - loss: 0.0163 - accuracy: 0.9961\n",
            "Epoch 11/20\n",
            "208/208 [==============================] - 1s 2ms/step - loss: 0.0104 - accuracy: 0.9974\n",
            "Epoch 12/20\n",
            "208/208 [==============================] - 1s 3ms/step - loss: 0.0132 - accuracy: 0.9966\n",
            "Epoch 13/20\n",
            "208/208 [==============================] - 0s 2ms/step - loss: 0.0059 - accuracy: 0.9991\n",
            "Epoch 14/20\n",
            "208/208 [==============================] - 1s 2ms/step - loss: 0.0108 - accuracy: 0.9968\n",
            "Epoch 15/20\n",
            "208/208 [==============================] - 1s 2ms/step - loss: 0.0050 - accuracy: 0.9993\n",
            "Epoch 16/20\n",
            "208/208 [==============================] - 0s 2ms/step - loss: 0.0055 - accuracy: 0.9987\n",
            "Epoch 17/20\n",
            "208/208 [==============================] - 1s 2ms/step - loss: 0.0035 - accuracy: 0.9992\n",
            "Epoch 18/20\n",
            "208/208 [==============================] - 1s 2ms/step - loss: 0.0043 - accuracy: 0.9991\n",
            "Epoch 19/20\n",
            "208/208 [==============================] - 1s 3ms/step - loss: 0.0037 - accuracy: 0.9994\n",
            "Epoch 20/20\n",
            "208/208 [==============================] - 1s 3ms/step - loss: 0.0073 - accuracy: 0.9977\n"
          ],
          "name": "stdout"
        },
        {
          "output_type": "execute_result",
          "data": {
            "text/plain": [
              "<tensorflow.python.keras.callbacks.History at 0x7efe46353690>"
            ]
          },
          "metadata": {
            "tags": []
          },
          "execution_count": 45
        }
      ]
    },
    {
      "cell_type": "code",
      "metadata": {
        "colab": {
          "base_uri": "https://localhost:8080/"
        },
        "id": "db79yJnOzy7g",
        "outputId": "c0b0a66b-8fdc-4af2-bf1e-3e6686f15765"
      },
      "source": [
        "# system(\"mkdir -p models\")\n",
        "# model.save('./models/my_model_84.h5')\n",
        "\n",
        "# Predicting on test images\n",
        "probability_model = tf.keras.Sequential([model, tf.keras.layers.Softmax()])\n",
        "predictions = probability_model.predict(np.array(test_images))\n",
        "\n",
        "p=0\n",
        "for i in range(len(test_images)):\n",
        "  if np.argmax(predictions[i]) == test_labels[i]:\n",
        "    p+=1\n",
        "\n",
        "print(\"Test accuracy: \", 100*p/len(test_images))"
      ],
      "execution_count": 46,
      "outputs": [
        {
          "output_type": "stream",
          "text": [
            "Test accuracy:  99.73076923076923\n"
          ],
          "name": "stdout"
        }
      ]
    },
    {
      "cell_type": "code",
      "metadata": {
        "colab": {
          "base_uri": "https://localhost:8080/",
          "height": 144
        },
        "id": "DcEypgpaawjr",
        "outputId": "280b201a-aee5-4ae0-91d0-ca6ca53fb2cf"
      },
      "source": [
        "fil_dir = \"./dataset-simple-uppercase/data/\"\n",
        "total = 0\n",
        "char_p = 0\n",
        "char_n = 0\n",
        "cap_p = 0\n",
        "cap_n = 0\n",
        "\n",
        "for fil in listdir(fil_dir)[:1000]:\n",
        "  image = cv2.imread(fil_dir + fil)\n",
        "  # imshow(image), plt.show()\n",
        "  gray = cv2.cvtColor(image, cv2.COLOR_BGR2GRAY) \n",
        "  _, thresh = cv2.threshold(gray, 120, 255, cv2.THRESH_BINARY)\n",
        "\n",
        "  cnts, new = cv2.findContours(thresh, cv2.RETR_LIST, cv2.CHAIN_APPROX_SIMPLE)\n",
        "  cnts=sorted(cnts, key = cv2.contourArea, reverse = True)[:30] \n",
        "  captcha = np.invert(thresh)\n",
        "  labelled_captcha = measure.label(captcha)\n",
        "\n",
        "  character_dimensions = (\n",
        "      0.25*captcha.shape[0], \n",
        "      0.95*captcha.shape[0], \n",
        "      0.05*captcha.shape[1], \n",
        "      0.3*captcha.shape[1]\n",
        "  )\n",
        "  min_height, max_height, min_width, max_width = character_dimensions\n",
        "\n",
        "  characters = []\n",
        "  charactersx = []\n",
        "  counter=0\n",
        "  column_list = []\n",
        "  row_list = []\n",
        "  d = []\n",
        "  for regions in regionprops(labelled_captcha):\n",
        "      y0, x0, y1, x1 = regions.bbox\n",
        "      region_height = y1 - y0\n",
        "      region_width = x1 - x0\n",
        "\n",
        "      if region_height > min_height and region_height < max_height and region_width > min_width and region_width < max_width:\n",
        "          roi = captcha[y0:y1, x0:x1]\n",
        "          resized_char = cv2.copyMakeBorder(roi, 10, 10, 10, 10, cv2.BORDER_CONSTANT)\n",
        "          resized_char = resize(roi, image_size)\n",
        "          column_list.append(x0)\n",
        "          d.append([x0, resized_char])\n",
        "  d = sorted(d)\n",
        "  predicted_captcha = \"\"  \n",
        "  ind=0\n",
        "  for _,each_character in d:\n",
        "      x_p,y_p = 3,3\n",
        "      each_character = cv2.copyMakeBorder(each_character, x_p, x_p, y_p, y_p, cv2.BORDER_CONSTANT)\n",
        "      each_character = cv2.resize(each_character,image_size)\n",
        "      \n",
        "      # imshow(each_character), plt.show()\n",
        "      each_character = each_character.reshape(1, -1)\n",
        "    \n",
        "      result, = probability_model.predict([each_character])\n",
        "      r = np.argmax(result)\n",
        "      \n",
        "      # if r<10:\n",
        "      #   # print(chr(48+r))\n",
        "      #   predicted_captcha+=chr(48+r)\n",
        "      #   if fil[ind] == chr(48+r):char_p += 1\n",
        "      #   else:char_n += 1\n",
        "      # else:\n",
        "      #   # print(chr(55+r))\n",
        "      #   predicted_captcha+=chr(65-10+r)\n",
        "      #   if fil[ind] == chr(65-10+r):char_p += 1\n",
        "      #   else:char_n += 1\n",
        "      if fil[ind] == chr(65+r):char_p += 1\n",
        "      else:char_n += 1\n",
        "      predicted_captcha+=chr(65+r)\n",
        "      ind += 1\n",
        "  \n",
        "  if predicted_captcha == fil[:6]: cap_p+=1\n",
        "  else:cap_n+=1\n",
        "\n",
        "  # Statistics\n",
        "  stats = pd.DataFrame(\n",
        "    [\n",
        "        [char_p, char_n, 100*char_p/(char_p+char_n)], \n",
        "        [cap_p, cap_n, 100*cap_p/(cap_p+cap_n)]\n",
        "    ], \n",
        "    index=[\"Char\", \"Captcha\"],\n",
        "    columns=[\"Pos\", \"Neg\", \"Acc\"]\n",
        "  )\n",
        "  total+=1\n",
        "  clear_output(wait=True)\n",
        "  display(HTML(stats.to_html()))\n",
        "  print(\"Current file: \", total)\n",
        "  print(fil[:6], \":\", predicted_captcha)"
      ],
      "execution_count": 47,
      "outputs": [
        {
          "output_type": "display_data",
          "data": {
            "text/html": [
              "<table border=\"1\" class=\"dataframe\">\n",
              "  <thead>\n",
              "    <tr style=\"text-align: right;\">\n",
              "      <th></th>\n",
              "      <th>Pos</th>\n",
              "      <th>Neg</th>\n",
              "      <th>Acc</th>\n",
              "    </tr>\n",
              "  </thead>\n",
              "  <tbody>\n",
              "    <tr>\n",
              "      <th>Char</th>\n",
              "      <td>5020</td>\n",
              "      <td>694</td>\n",
              "      <td>87.854393</td>\n",
              "    </tr>\n",
              "    <tr>\n",
              "      <th>Captcha</th>\n",
              "      <td>689</td>\n",
              "      <td>311</td>\n",
              "      <td>68.900000</td>\n",
              "    </tr>\n",
              "  </tbody>\n",
              "</table>"
            ],
            "text/plain": [
              "<IPython.core.display.HTML object>"
            ]
          },
          "metadata": {
            "tags": []
          }
        },
        {
          "output_type": "stream",
          "text": [
            "Current file:  1000\n",
            "TCYZTE : TCYZTE\n"
          ],
          "name": "stdout"
        }
      ]
    }
  ]
}